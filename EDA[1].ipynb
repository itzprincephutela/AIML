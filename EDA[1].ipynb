{
 "cells": [
  {
   "cell_type": "markdown",
   "metadata": {},
   "source": []
  },
  {
   "cell_type": "code",
   "execution_count": 20,
   "metadata": {},
   "outputs": [],
   "source": [
    "import pandas as pd\n",
    "import numpy as np\n",
    "\n",
    "import warnings\n",
    "warnings.filterwarnings('ignore')\n",
    "\n",
    "# libraries used for graph and visulization\n",
    "import matplotlib.pyplot as plt\n",
    "%matplotlib inline \n",
    "import seaborn as sns\n",
    "\n",
    "# libraries used for missing value \n",
    "import missingno as msno   #need to install\n",
    "\n",
    "#libraries used for preprocessing and modeling\n",
    "from sklearn.preprocessing import StandardScaler\n",
    "from sklearn.model_selection import train_test_split, cross_val_score\n",
    "\n",
    "from sklearn.ensemble import RandomForestClassifier, VotingClassifier, GradientBoostingClassifier\n",
    "from sklearn.svm import SVC\n",
    "\n",
    "\n",
    "from sklearn.metrics import accuracy_score, precision_score, roc_curve, f1_score, recall_score, confusion_matrix, classification_report,  plot_confusion_matrix\n",
    "from sklearn.model_selection import GridSearchCV\n",
    "\n",
    "\n",
    "\n"
   ]
  },
  {
   "cell_type": "code",
   "execution_count": 2,
   "metadata": {},
   "outputs": [
    {
     "name": "stdout",
     "output_type": "stream",
     "text": [
      "Collecting missingno\n",
      "  Downloading missingno-0.5.2-py3-none-any.whl (8.7 kB)\n",
      "Requirement already satisfied: scipy in c:\\users\\admin\\anaconda3\\lib\\site-packages (from missingno) (1.9.1)\n",
      "Requirement already satisfied: matplotlib in c:\\users\\admin\\anaconda3\\lib\\site-packages (from missingno) (3.5.2)\n",
      "Requirement already satisfied: numpy in c:\\users\\admin\\anaconda3\\lib\\site-packages (from missingno) (1.21.5)\n",
      "Requirement already satisfied: seaborn in c:\\users\\admin\\anaconda3\\lib\\site-packages (from missingno) (0.11.2)\n",
      "Requirement already satisfied: fonttools>=4.22.0 in c:\\users\\admin\\anaconda3\\lib\\site-packages (from matplotlib->missingno) (4.25.0)\n",
      "Requirement already satisfied: cycler>=0.10 in c:\\users\\admin\\anaconda3\\lib\\site-packages (from matplotlib->missingno) (0.11.0)\n",
      "Requirement already satisfied: kiwisolver>=1.0.1 in c:\\users\\admin\\anaconda3\\lib\\site-packages (from matplotlib->missingno) (1.4.2)\n",
      "Requirement already satisfied: pillow>=6.2.0 in c:\\users\\admin\\anaconda3\\lib\\site-packages (from matplotlib->missingno) (9.2.0)\n",
      "Requirement already satisfied: python-dateutil>=2.7 in c:\\users\\admin\\anaconda3\\lib\\site-packages (from matplotlib->missingno) (2.8.2)\n",
      "Requirement already satisfied: pyparsing>=2.2.1 in c:\\users\\admin\\anaconda3\\lib\\site-packages (from matplotlib->missingno) (3.0.9)\n",
      "Requirement already satisfied: packaging>=20.0 in c:\\users\\admin\\anaconda3\\lib\\site-packages (from matplotlib->missingno) (21.3)\n",
      "Requirement already satisfied: pandas>=0.23 in c:\\users\\admin\\anaconda3\\lib\\site-packages (from seaborn->missingno) (1.4.4)\n",
      "Requirement already satisfied: pytz>=2020.1 in c:\\users\\admin\\anaconda3\\lib\\site-packages (from pandas>=0.23->seaborn->missingno) (2022.1)\n",
      "Requirement already satisfied: six>=1.5 in c:\\users\\admin\\anaconda3\\lib\\site-packages (from python-dateutil>=2.7->matplotlib->missingno) (1.16.0)\n",
      "Installing collected packages: missingno\n",
      "Successfully installed missingno-0.5.2\n",
      "Note: you may need to restart the kernel to use updated packages.\n"
     ]
    }
   ],
   "source": [
    "pip install missingno"
   ]
  },
  {
   "cell_type": "code",
   "execution_count": 23,
   "metadata": {},
   "outputs": [],
   "source": [
    "df = pd.read_csv('Lending_Club_Data.csv')"
   ]
  },
  {
   "cell_type": "code",
   "execution_count": 4,
   "metadata": {
    "scrolled": true
   },
   "outputs": [
    {
     "data": {
      "text/html": [
       "<div>\n",
       "<style scoped>\n",
       "    .dataframe tbody tr th:only-of-type {\n",
       "        vertical-align: middle;\n",
       "    }\n",
       "\n",
       "    .dataframe tbody tr th {\n",
       "        vertical-align: top;\n",
       "    }\n",
       "\n",
       "    .dataframe thead th {\n",
       "        text-align: right;\n",
       "    }\n",
       "</style>\n",
       "<table border=\"1\" class=\"dataframe\">\n",
       "  <thead>\n",
       "    <tr style=\"text-align: right;\">\n",
       "      <th></th>\n",
       "      <th>Id</th>\n",
       "      <th>is_bad</th>\n",
       "      <th>annual_inc</th>\n",
       "      <th>debt_to_income</th>\n",
       "      <th>delinq_2yrs</th>\n",
       "      <th>inq_last_6mths</th>\n",
       "      <th>mths_since_last_delinq</th>\n",
       "      <th>mths_since_last_record</th>\n",
       "      <th>open_acc</th>\n",
       "      <th>pub_rec</th>\n",
       "      <th>revol_bal</th>\n",
       "      <th>revol_util</th>\n",
       "      <th>total_acc</th>\n",
       "      <th>collections_12_mths_ex_med</th>\n",
       "      <th>mths_since_last_major_derog</th>\n",
       "    </tr>\n",
       "  </thead>\n",
       "  <tbody>\n",
       "    <tr>\n",
       "      <th>count</th>\n",
       "      <td>10000.00000</td>\n",
       "      <td>10000.000000</td>\n",
       "      <td>9999.000000</td>\n",
       "      <td>10000.000000</td>\n",
       "      <td>9995.000000</td>\n",
       "      <td>9995.000000</td>\n",
       "      <td>3684.000000</td>\n",
       "      <td>840.000000</td>\n",
       "      <td>9995.000000</td>\n",
       "      <td>9995.000000</td>\n",
       "      <td>1.000000e+04</td>\n",
       "      <td>9974.000000</td>\n",
       "      <td>9995.000000</td>\n",
       "      <td>9968.0</td>\n",
       "      <td>10000.000000</td>\n",
       "    </tr>\n",
       "    <tr>\n",
       "      <th>mean</th>\n",
       "      <td>5000.50000</td>\n",
       "      <td>0.129500</td>\n",
       "      <td>68203.011539</td>\n",
       "      <td>13.338704</td>\n",
       "      <td>0.148174</td>\n",
       "      <td>1.066933</td>\n",
       "      <td>35.890337</td>\n",
       "      <td>61.652381</td>\n",
       "      <td>9.334567</td>\n",
       "      <td>0.060130</td>\n",
       "      <td>1.427101e+04</td>\n",
       "      <td>48.450771</td>\n",
       "      <td>22.011306</td>\n",
       "      <td>0.0</td>\n",
       "      <td>2.002200</td>\n",
       "    </tr>\n",
       "    <tr>\n",
       "      <th>std</th>\n",
       "      <td>2886.89568</td>\n",
       "      <td>0.335769</td>\n",
       "      <td>48590.252757</td>\n",
       "      <td>6.754212</td>\n",
       "      <td>0.506270</td>\n",
       "      <td>1.476052</td>\n",
       "      <td>22.361443</td>\n",
       "      <td>46.189619</td>\n",
       "      <td>4.526590</td>\n",
       "      <td>0.251245</td>\n",
       "      <td>2.543791e+04</td>\n",
       "      <td>28.220557</td>\n",
       "      <td>11.709400</td>\n",
       "      <td>0.0</td>\n",
       "      <td>0.810963</td>\n",
       "    </tr>\n",
       "    <tr>\n",
       "      <th>min</th>\n",
       "      <td>1.00000</td>\n",
       "      <td>0.000000</td>\n",
       "      <td>2000.000000</td>\n",
       "      <td>0.000000</td>\n",
       "      <td>0.000000</td>\n",
       "      <td>0.000000</td>\n",
       "      <td>0.000000</td>\n",
       "      <td>0.000000</td>\n",
       "      <td>1.000000</td>\n",
       "      <td>0.000000</td>\n",
       "      <td>0.000000e+00</td>\n",
       "      <td>0.000000</td>\n",
       "      <td>1.000000</td>\n",
       "      <td>0.0</td>\n",
       "      <td>1.000000</td>\n",
       "    </tr>\n",
       "    <tr>\n",
       "      <th>25%</th>\n",
       "      <td>2500.75000</td>\n",
       "      <td>0.000000</td>\n",
       "      <td>40000.000000</td>\n",
       "      <td>8.160000</td>\n",
       "      <td>0.000000</td>\n",
       "      <td>0.000000</td>\n",
       "      <td>18.000000</td>\n",
       "      <td>0.000000</td>\n",
       "      <td>6.000000</td>\n",
       "      <td>0.000000</td>\n",
       "      <td>3.524500e+03</td>\n",
       "      <td>25.000000</td>\n",
       "      <td>13.000000</td>\n",
       "      <td>0.0</td>\n",
       "      <td>1.000000</td>\n",
       "    </tr>\n",
       "    <tr>\n",
       "      <th>50%</th>\n",
       "      <td>5000.50000</td>\n",
       "      <td>0.000000</td>\n",
       "      <td>58000.000000</td>\n",
       "      <td>13.410000</td>\n",
       "      <td>0.000000</td>\n",
       "      <td>1.000000</td>\n",
       "      <td>34.000000</td>\n",
       "      <td>86.000000</td>\n",
       "      <td>9.000000</td>\n",
       "      <td>0.000000</td>\n",
       "      <td>8.645500e+03</td>\n",
       "      <td>48.700000</td>\n",
       "      <td>20.000000</td>\n",
       "      <td>0.0</td>\n",
       "      <td>2.000000</td>\n",
       "    </tr>\n",
       "    <tr>\n",
       "      <th>75%</th>\n",
       "      <td>7500.25000</td>\n",
       "      <td>0.000000</td>\n",
       "      <td>82000.000000</td>\n",
       "      <td>18.692500</td>\n",
       "      <td>0.000000</td>\n",
       "      <td>2.000000</td>\n",
       "      <td>53.000000</td>\n",
       "      <td>101.000000</td>\n",
       "      <td>12.000000</td>\n",
       "      <td>0.000000</td>\n",
       "      <td>1.695225e+04</td>\n",
       "      <td>71.800000</td>\n",
       "      <td>29.000000</td>\n",
       "      <td>0.0</td>\n",
       "      <td>3.000000</td>\n",
       "    </tr>\n",
       "    <tr>\n",
       "      <th>max</th>\n",
       "      <td>10000.00000</td>\n",
       "      <td>1.000000</td>\n",
       "      <td>900000.000000</td>\n",
       "      <td>29.990000</td>\n",
       "      <td>11.000000</td>\n",
       "      <td>25.000000</td>\n",
       "      <td>120.000000</td>\n",
       "      <td>119.000000</td>\n",
       "      <td>39.000000</td>\n",
       "      <td>3.000000</td>\n",
       "      <td>1.207359e+06</td>\n",
       "      <td>100.600000</td>\n",
       "      <td>90.000000</td>\n",
       "      <td>0.0</td>\n",
       "      <td>3.000000</td>\n",
       "    </tr>\n",
       "  </tbody>\n",
       "</table>\n",
       "</div>"
      ],
      "text/plain": [
       "                Id        is_bad     annual_inc  debt_to_income  delinq_2yrs  \\\n",
       "count  10000.00000  10000.000000    9999.000000    10000.000000  9995.000000   \n",
       "mean    5000.50000      0.129500   68203.011539       13.338704     0.148174   \n",
       "std     2886.89568      0.335769   48590.252757        6.754212     0.506270   \n",
       "min        1.00000      0.000000    2000.000000        0.000000     0.000000   \n",
       "25%     2500.75000      0.000000   40000.000000        8.160000     0.000000   \n",
       "50%     5000.50000      0.000000   58000.000000       13.410000     0.000000   \n",
       "75%     7500.25000      0.000000   82000.000000       18.692500     0.000000   \n",
       "max    10000.00000      1.000000  900000.000000       29.990000    11.000000   \n",
       "\n",
       "       inq_last_6mths  mths_since_last_delinq  mths_since_last_record  \\\n",
       "count     9995.000000             3684.000000              840.000000   \n",
       "mean         1.066933               35.890337               61.652381   \n",
       "std          1.476052               22.361443               46.189619   \n",
       "min          0.000000                0.000000                0.000000   \n",
       "25%          0.000000               18.000000                0.000000   \n",
       "50%          1.000000               34.000000               86.000000   \n",
       "75%          2.000000               53.000000              101.000000   \n",
       "max         25.000000              120.000000              119.000000   \n",
       "\n",
       "          open_acc      pub_rec     revol_bal   revol_util    total_acc  \\\n",
       "count  9995.000000  9995.000000  1.000000e+04  9974.000000  9995.000000   \n",
       "mean      9.334567     0.060130  1.427101e+04    48.450771    22.011306   \n",
       "std       4.526590     0.251245  2.543791e+04    28.220557    11.709400   \n",
       "min       1.000000     0.000000  0.000000e+00     0.000000     1.000000   \n",
       "25%       6.000000     0.000000  3.524500e+03    25.000000    13.000000   \n",
       "50%       9.000000     0.000000  8.645500e+03    48.700000    20.000000   \n",
       "75%      12.000000     0.000000  1.695225e+04    71.800000    29.000000   \n",
       "max      39.000000     3.000000  1.207359e+06   100.600000    90.000000   \n",
       "\n",
       "       collections_12_mths_ex_med  mths_since_last_major_derog  \n",
       "count                      9968.0                 10000.000000  \n",
       "mean                          0.0                     2.002200  \n",
       "std                           0.0                     0.810963  \n",
       "min                           0.0                     1.000000  \n",
       "25%                           0.0                     1.000000  \n",
       "50%                           0.0                     2.000000  \n",
       "75%                           0.0                     3.000000  \n",
       "max                           0.0                     3.000000  "
      ]
     },
     "execution_count": 4,
     "metadata": {},
     "output_type": "execute_result"
    }
   ],
   "source": [
    "df.describe()"
   ]
  },
  {
   "cell_type": "code",
   "execution_count": 25,
   "metadata": {},
   "outputs": [],
   "source": [
    "loan_df =df.copy()"
   ]
  },
  {
   "cell_type": "code",
   "execution_count": 6,
   "metadata": {},
   "outputs": [
    {
     "data": {
      "text/plain": [
       "Id                                0\n",
       "is_bad                            0\n",
       "emp_title                       592\n",
       "emp_length                        0\n",
       "home_ownership                    0\n",
       "annual_inc                        1\n",
       "verification_status               0\n",
       "pymnt_plan                        0\n",
       "Notes                          3230\n",
       "purpose_cat                       0\n",
       "purpose                           4\n",
       "zip_code                          0\n",
       "addr_state                        0\n",
       "debt_to_income                    0\n",
       "delinq_2yrs                       5\n",
       "earliest_cr_line                  5\n",
       "inq_last_6mths                    5\n",
       "mths_since_last_delinq         6316\n",
       "mths_since_last_record         9160\n",
       "open_acc                          5\n",
       "pub_rec                           5\n",
       "revol_bal                         0\n",
       "revol_util                       26\n",
       "total_acc                         5\n",
       "initial_list_status               0\n",
       "collections_12_mths_ex_med       32\n",
       "mths_since_last_major_derog       0\n",
       "policy_code                       0\n",
       "dtype: int64"
      ]
     },
     "execution_count": 6,
     "metadata": {},
     "output_type": "execute_result"
    }
   ],
   "source": [
    "loan_df.isna().sum()"
   ]
  },
  {
   "cell_type": "code",
   "execution_count": 347,
   "metadata": {},
   "outputs": [
    {
     "data": {
      "text/plain": [
       "<AxesSubplot:>"
      ]
     },
     "execution_count": 347,
     "metadata": {},
     "output_type": "execute_result"
    },
    {
     "data": {
      "image/png": "[encoded data removed]",
      "text/plain": [
       "<Figure size 1800x720 with 2 Axes>"
      ]
     },
     "metadata": {
      "needs_background": "light"
     },
     "output_type": "display_data"
    }
   ],
   "source": [
    "msno.matrix(loan_df)"
   ]
  },
  {
   "cell_type": "code",
   "execution_count": 348,
   "metadata": {
    "scrolled": false
   },
   "outputs": [
    {
     "data": {
      "text/plain": [
       "<AxesSubplot:>"
      ]
     },
     "execution_count": 348,
     "metadata": {},
     "output_type": "execute_result"
    },
    {
     "data": {
      "image/png": "[encoded data removed]",
      "text/plain": [
       "<Figure size 1728x720 with 3 Axes>"
      ]
     },
     "metadata": {
      "needs_background": "light"
     },
     "output_type": "display_data"
    }
   ],
   "source": [
    "msno.bar(loan_df)"
   ]
  },
  {
   "cell_type": "code",
   "execution_count": 7,
   "metadata": {
    "scrolled": true
   },
   "outputs": [
    {
     "data": {
      "text/html": [
       "<div>\n",
       "<style scoped>\n",
       "    .dataframe tbody tr th:only-of-type {\n",
       "        vertical-align: middle;\n",
       "    }\n",
       "\n",
       "    .dataframe tbody tr th {\n",
       "        vertical-align: top;\n",
       "    }\n",
       "\n",
       "    .dataframe thead th {\n",
       "        text-align: right;\n",
       "    }\n",
       "</style>\n",
       "<table border=\"1\" class=\"dataframe\">\n",
       "  <thead>\n",
       "    <tr style=\"text-align: right;\">\n",
       "      <th></th>\n",
       "      <th>Id</th>\n",
       "      <th>is_bad</th>\n",
       "      <th>emp_title</th>\n",
       "      <th>emp_length</th>\n",
       "      <th>home_ownership</th>\n",
       "      <th>annual_inc</th>\n",
       "      <th>verification_status</th>\n",
       "      <th>pymnt_plan</th>\n",
       "      <th>Notes</th>\n",
       "      <th>purpose_cat</th>\n",
       "      <th>...</th>\n",
       "      <th>mths_since_last_record</th>\n",
       "      <th>open_acc</th>\n",
       "      <th>pub_rec</th>\n",
       "      <th>revol_bal</th>\n",
       "      <th>revol_util</th>\n",
       "      <th>total_acc</th>\n",
       "      <th>initial_list_status</th>\n",
       "      <th>collections_12_mths_ex_med</th>\n",
       "      <th>mths_since_last_major_derog</th>\n",
       "      <th>policy_code</th>\n",
       "    </tr>\n",
       "  </thead>\n",
       "  <tbody>\n",
       "    <tr>\n",
       "      <th>0</th>\n",
       "      <td>1</td>\n",
       "      <td>0</td>\n",
       "      <td>Time Warner Cable</td>\n",
       "      <td>10</td>\n",
       "      <td>MORTGAGE</td>\n",
       "      <td>50000.0</td>\n",
       "      <td>not verified</td>\n",
       "      <td>n</td>\n",
       "      <td>NaN</td>\n",
       "      <td>medical</td>\n",
       "      <td>...</td>\n",
       "      <td>NaN</td>\n",
       "      <td>15.0</td>\n",
       "      <td>0.0</td>\n",
       "      <td>12087</td>\n",
       "      <td>12.1</td>\n",
       "      <td>44.0</td>\n",
       "      <td>f</td>\n",
       "      <td>0.0</td>\n",
       "      <td>1</td>\n",
       "      <td>PC4</td>\n",
       "    </tr>\n",
       "    <tr>\n",
       "      <th>1</th>\n",
       "      <td>2</td>\n",
       "      <td>0</td>\n",
       "      <td>Ottawa University</td>\n",
       "      <td>1</td>\n",
       "      <td>RENT</td>\n",
       "      <td>39216.0</td>\n",
       "      <td>not verified</td>\n",
       "      <td>n</td>\n",
       "      <td>Borrower added on 04/14/11 &gt; I will be using...</td>\n",
       "      <td>debt consolidation</td>\n",
       "      <td>...</td>\n",
       "      <td>NaN</td>\n",
       "      <td>4.0</td>\n",
       "      <td>0.0</td>\n",
       "      <td>10114</td>\n",
       "      <td>64.0</td>\n",
       "      <td>5.0</td>\n",
       "      <td>f</td>\n",
       "      <td>0.0</td>\n",
       "      <td>2</td>\n",
       "      <td>PC1</td>\n",
       "    </tr>\n",
       "    <tr>\n",
       "      <th>2</th>\n",
       "      <td>3</td>\n",
       "      <td>0</td>\n",
       "      <td>Kennedy Wilson</td>\n",
       "      <td>4</td>\n",
       "      <td>RENT</td>\n",
       "      <td>65000.0</td>\n",
       "      <td>not verified</td>\n",
       "      <td>n</td>\n",
       "      <td>NaN</td>\n",
       "      <td>credit card</td>\n",
       "      <td>...</td>\n",
       "      <td>NaN</td>\n",
       "      <td>4.0</td>\n",
       "      <td>0.0</td>\n",
       "      <td>81</td>\n",
       "      <td>0.6</td>\n",
       "      <td>8.0</td>\n",
       "      <td>f</td>\n",
       "      <td>0.0</td>\n",
       "      <td>3</td>\n",
       "      <td>PC4</td>\n",
       "    </tr>\n",
       "    <tr>\n",
       "      <th>3</th>\n",
       "      <td>4</td>\n",
       "      <td>0</td>\n",
       "      <td>TOWN OF PLATTEKILL</td>\n",
       "      <td>10</td>\n",
       "      <td>MORTGAGE</td>\n",
       "      <td>57500.0</td>\n",
       "      <td>not verified</td>\n",
       "      <td>n</td>\n",
       "      <td>NaN</td>\n",
       "      <td>debt consolidation</td>\n",
       "      <td>...</td>\n",
       "      <td>NaN</td>\n",
       "      <td>6.0</td>\n",
       "      <td>0.0</td>\n",
       "      <td>10030</td>\n",
       "      <td>37.1</td>\n",
       "      <td>23.0</td>\n",
       "      <td>f</td>\n",
       "      <td>0.0</td>\n",
       "      <td>2</td>\n",
       "      <td>PC2</td>\n",
       "    </tr>\n",
       "    <tr>\n",
       "      <th>4</th>\n",
       "      <td>5</td>\n",
       "      <td>0</td>\n",
       "      <td>Belmont Correctional</td>\n",
       "      <td>10</td>\n",
       "      <td>MORTGAGE</td>\n",
       "      <td>50004.0</td>\n",
       "      <td>VERIFIED - income</td>\n",
       "      <td>n</td>\n",
       "      <td>I want to consolidate my debt, pay for a vacat...</td>\n",
       "      <td>debt consolidation</td>\n",
       "      <td>...</td>\n",
       "      <td>NaN</td>\n",
       "      <td>8.0</td>\n",
       "      <td>0.0</td>\n",
       "      <td>10740</td>\n",
       "      <td>40.4</td>\n",
       "      <td>21.0</td>\n",
       "      <td>f</td>\n",
       "      <td>0.0</td>\n",
       "      <td>3</td>\n",
       "      <td>PC3</td>\n",
       "    </tr>\n",
       "  </tbody>\n",
       "</table>\n",
       "<p>5 rows × 28 columns</p>\n",
       "</div>"
      ],
      "text/plain": [
       "   Id  is_bad             emp_title emp_length home_ownership  annual_inc  \\\n",
       "0   1       0     Time Warner Cable         10       MORTGAGE     50000.0   \n",
       "1   2       0     Ottawa University          1           RENT     39216.0   \n",
       "2   3       0        Kennedy Wilson          4           RENT     65000.0   \n",
       "3   4       0    TOWN OF PLATTEKILL         10       MORTGAGE     57500.0   \n",
       "4   5       0  Belmont Correctional         10       MORTGAGE     50004.0   \n",
       "\n",
       "  verification_status pymnt_plan  \\\n",
       "0        not verified          n   \n",
       "1        not verified          n   \n",
       "2        not verified          n   \n",
       "3        not verified          n   \n",
       "4   VERIFIED - income          n   \n",
       "\n",
       "                                               Notes         purpose_cat  ...  \\\n",
       "0                                                NaN             medical  ...   \n",
       "1    Borrower added on 04/14/11 > I will be using...  debt consolidation  ...   \n",
       "2                                                NaN         credit card  ...   \n",
       "3                                                NaN  debt consolidation  ...   \n",
       "4  I want to consolidate my debt, pay for a vacat...  debt consolidation  ...   \n",
       "\n",
       "  mths_since_last_record open_acc pub_rec  revol_bal  revol_util total_acc  \\\n",
       "0                    NaN     15.0     0.0      12087        12.1      44.0   \n",
       "1                    NaN      4.0     0.0      10114        64.0       5.0   \n",
       "2                    NaN      4.0     0.0         81         0.6       8.0   \n",
       "3                    NaN      6.0     0.0      10030        37.1      23.0   \n",
       "4                    NaN      8.0     0.0      10740        40.4      21.0   \n",
       "\n",
       "   initial_list_status  collections_12_mths_ex_med  \\\n",
       "0                    f                         0.0   \n",
       "1                    f                         0.0   \n",
       "2                    f                         0.0   \n",
       "3                    f                         0.0   \n",
       "4                    f                         0.0   \n",
       "\n",
       "   mths_since_last_major_derog  policy_code  \n",
       "0                            1          PC4  \n",
       "1                            2          PC1  \n",
       "2                            3          PC4  \n",
       "3                            2          PC2  \n",
       "4                            3          PC3  \n",
       "\n",
       "[5 rows x 28 columns]"
      ]
     },
     "execution_count": 7,
     "metadata": {},
     "output_type": "execute_result"
    }
   ],
   "source": [
    "loan_df.head()"
   ]
  },
  {
   "cell_type": "code",
   "execution_count": 26,
   "metadata": {},
   "outputs": [
    {
     "data": {
      "text/plain": [
       "US Army                37\n",
       "Bank of America        23\n",
       "IBM                    22\n",
       "USAF                   17\n",
       "US Navy                17\n",
       "                       ..\n",
       "Messier Bugatti USA     1\n",
       "US Customs              1\n",
       "City of Riverside       1\n",
       "Amedisys                1\n",
       "Rehab Alliance          1\n",
       "Name: emp_title, Length: 8183, dtype: int64"
      ]
     },
     "execution_count": 26,
     "metadata": {},
     "output_type": "execute_result"
    }
   ],
   "source": [
    "loan_df.emp_title.value_counts()"
   ]
  },
  {
   "cell_type": "code",
   "execution_count": 350,
   "metadata": {},
   "outputs": [
    {
     "data": {
      "text/plain": [
       "Bebe stores inc                       1\n",
       "Gilman City R-IV School District      1\n",
       "Cajon Valley Union School District    1\n",
       "Echelon                               1\n",
       "Zone Striping                         1\n",
       "Name: emp_title, dtype: int64"
      ]
     },
     "execution_count": 350,
     "metadata": {},
     "output_type": "execute_result"
    }
   ],
   "source": [
    "loan_df.emp_title.value_counts().tail()"
   ]
  },
  {
   "cell_type": "code",
   "execution_count": 13,
   "metadata": {},
   "outputs": [
    {
     "data": {
      "text/plain": [
       "(8184,)"
      ]
     },
     "execution_count": 13,
     "metadata": {},
     "output_type": "execute_result"
    }
   ],
   "source": [
    "loan_df.emp_title.unique().shape"
   ]
  },
  {
   "cell_type": "code",
   "execution_count": 2,
   "metadata": {},
   "outputs": [
    {
     "data": {
      "text/html": [
       "<div>\n",
       "<style scoped>\n",
       "    .dataframe tbody tr th:only-of-type {\n",
       "        vertical-align: middle;\n",
       "    }\n",
       "\n",
       "    .dataframe tbody tr th {\n",
       "        vertical-align: top;\n",
       "    }\n",
       "\n",
       "    .dataframe thead th {\n",
       "        text-align: right;\n",
       "    }\n",
       "</style>\n",
       "<table border=\"1\" class=\"dataframe\">\n",
       "  <thead>\n",
       "    <tr style=\"text-align: right;\">\n",
       "      <th></th>\n",
       "      <th>A</th>\n",
       "    </tr>\n",
       "  </thead>\n",
       "  <tbody>\n",
       "    <tr>\n",
       "      <th>0</th>\n",
       "      <td>1</td>\n",
       "    </tr>\n",
       "    <tr>\n",
       "      <th>1</th>\n",
       "      <td>2</td>\n",
       "    </tr>\n",
       "    <tr>\n",
       "      <th>2</th>\n",
       "      <td>3</td>\n",
       "    </tr>\n",
       "  </tbody>\n",
       "</table>\n",
       "</div>"
      ],
      "text/plain": [
       "   A\n",
       "0  1\n",
       "1  2\n",
       "2  3"
      ]
     },
     "execution_count": 2,
     "metadata": {},
     "output_type": "execute_result"
    }
   ],
   "source": [
    "import pandas as pd\n",
    "\n",
    "# Create a DataFrame\n",
    "data = {'A': [1, 2, 3], 'B': [4, 5, 6]}\n",
    "df = pd.DataFrame(data)\n",
    "\n",
    "# Drop column 'B'\n",
    "df.drop(columns=['B'], inplace=True)\n",
    "df\n"
   ]
  },
  {
   "cell_type": "code",
   "execution_count": 3,
   "metadata": {},
   "outputs": [
    {
     "data": {
      "text/html": [
       "<div>\n",
       "<style scoped>\n",
       "    .dataframe tbody tr th:only-of-type {\n",
       "        vertical-align: middle;\n",
       "    }\n",
       "\n",
       "    .dataframe tbody tr th {\n",
       "        vertical-align: top;\n",
       "    }\n",
       "\n",
       "    .dataframe thead th {\n",
       "        text-align: right;\n",
       "    }\n",
       "</style>\n",
       "<table border=\"1\" class=\"dataframe\">\n",
       "  <thead>\n",
       "    <tr style=\"text-align: right;\">\n",
       "      <th></th>\n",
       "      <th>A</th>\n",
       "      <th>B</th>\n",
       "    </tr>\n",
       "  </thead>\n",
       "  <tbody>\n",
       "    <tr>\n",
       "      <th>0</th>\n",
       "      <td>1.0</td>\n",
       "      <td>4.0</td>\n",
       "    </tr>\n",
       "  </tbody>\n",
       "</table>\n",
       "</div>"
      ],
      "text/plain": [
       "     A    B\n",
       "0  1.0  4.0"
      ]
     },
     "execution_count": 3,
     "metadata": {},
     "output_type": "execute_result"
    }
   ],
   "source": [
    "# Create a DataFrame with missing values\n",
    "data = {'A': [1, 2, None], 'B': [4, None, 6]}\n",
    "df = pd.DataFrame(data)\n",
    "\n",
    "# Drop rows with any NaN values\n",
    "df.dropna(inplace=True)\n",
    "df"
   ]
  },
  {
   "cell_type": "code",
   "execution_count": 4,
   "metadata": {},
   "outputs": [
    {
     "name": "stdout",
     "output_type": "stream",
     "text": [
      "Original DataFrame:\n",
      "     A    B    C\n",
      "0  1.0  4.0  NaN\n",
      "1  2.0  NaN  8.0\n",
      "2  NaN  6.0  9.0\n",
      "\n",
      "DataFrame after dropping columns with NaN values:\n",
      "Empty DataFrame\n",
      "Columns: []\n",
      "Index: [0, 1, 2]\n"
     ]
    }
   ],
   "source": [
    "import pandas as pd\n",
    "import numpy as np\n",
    "\n",
    "# Create a DataFrame with missing values\n",
    "data = {'A': [1, 2, None], 'B': [4, None, 6], 'C': [None, 8, 9]}\n",
    "df = pd.DataFrame(data)\n",
    "\n",
    "# Display the original DataFrame\n",
    "print(\"Original DataFrame:\")\n",
    "print(df)\n",
    "\n",
    "# Drop columns with any NaN values\n",
    "df.dropna(axis=1, inplace=True)\n",
    "\n",
    "# Display the modified DataFrame\n",
    "print(\"\\nDataFrame after dropping columns with NaN values:\")\n",
    "print(df)\n"
   ]
  },
  {
   "cell_type": "code",
   "execution_count": 10,
   "metadata": {},
   "outputs": [
    {
     "data": {
      "text/html": [
       "<div>\n",
       "<style scoped>\n",
       "    .dataframe tbody tr th:only-of-type {\n",
       "        vertical-align: middle;\n",
       "    }\n",
       "\n",
       "    .dataframe tbody tr th {\n",
       "        vertical-align: top;\n",
       "    }\n",
       "\n",
       "    .dataframe thead th {\n",
       "        text-align: right;\n",
       "    }\n",
       "</style>\n",
       "<table border=\"1\" class=\"dataframe\">\n",
       "  <thead>\n",
       "    <tr style=\"text-align: right;\">\n",
       "      <th></th>\n",
       "      <th>x</th>\n",
       "      <th>y</th>\n",
       "      <th>z</th>\n",
       "      <th>a</th>\n",
       "      <th>b</th>\n",
       "    </tr>\n",
       "  </thead>\n",
       "  <tbody>\n",
       "    <tr>\n",
       "      <th>a</th>\n",
       "      <td>0</td>\n",
       "      <td>1</td>\n",
       "      <td>2</td>\n",
       "      <td>3</td>\n",
       "      <td>4</td>\n",
       "    </tr>\n",
       "    <tr>\n",
       "      <th>b</th>\n",
       "      <td>5</td>\n",
       "      <td>6</td>\n",
       "      <td>7</td>\n",
       "      <td>8</td>\n",
       "      <td>9</td>\n",
       "    </tr>\n",
       "    <tr>\n",
       "      <th>c</th>\n",
       "      <td>10</td>\n",
       "      <td>11</td>\n",
       "      <td>12</td>\n",
       "      <td>13</td>\n",
       "      <td>14</td>\n",
       "    </tr>\n",
       "    <tr>\n",
       "      <th>d</th>\n",
       "      <td>15</td>\n",
       "      <td>16</td>\n",
       "      <td>17</td>\n",
       "      <td>18</td>\n",
       "      <td>19</td>\n",
       "    </tr>\n",
       "    <tr>\n",
       "      <th>e</th>\n",
       "      <td>20</td>\n",
       "      <td>21</td>\n",
       "      <td>22</td>\n",
       "      <td>23</td>\n",
       "      <td>24</td>\n",
       "    </tr>\n",
       "  </tbody>\n",
       "</table>\n",
       "</div>"
      ],
      "text/plain": [
       "    x   y   z   a   b\n",
       "a   0   1   2   3   4\n",
       "b   5   6   7   8   9\n",
       "c  10  11  12  13  14\n",
       "d  15  16  17  18  19\n",
       "e  20  21  22  23  24"
      ]
     },
     "execution_count": 10,
     "metadata": {},
     "output_type": "execute_result"
    }
   ],
   "source": [
    "import numpy as np\n",
    "df = pd.DataFrame(np.arange(25).reshape(5, 5),  \n",
    "                      index=list('abcde'), \n",
    "                      columns=['x','y','z', 'a', 'b'])\n",
    "df"
   ]
  },
  {
   "cell_type": "code",
   "execution_count": 14,
   "metadata": {},
   "outputs": [
    {
     "data": {
      "text/html": [
       "<div>\n",
       "<style scoped>\n",
       "    .dataframe tbody tr th:only-of-type {\n",
       "        vertical-align: middle;\n",
       "    }\n",
       "\n",
       "    .dataframe tbody tr th {\n",
       "        vertical-align: top;\n",
       "    }\n",
       "\n",
       "    .dataframe thead th {\n",
       "        text-align: right;\n",
       "    }\n",
       "</style>\n",
       "<table border=\"1\" class=\"dataframe\">\n",
       "  <thead>\n",
       "    <tr style=\"text-align: right;\">\n",
       "      <th></th>\n",
       "      <th>x</th>\n",
       "      <th>y</th>\n",
       "      <th>z</th>\n",
       "    </tr>\n",
       "  </thead>\n",
       "  <tbody>\n",
       "    <tr>\n",
       "      <th>c</th>\n",
       "      <td>10</td>\n",
       "      <td>11</td>\n",
       "      <td>12</td>\n",
       "    </tr>\n",
       "    <tr>\n",
       "      <th>d</th>\n",
       "      <td>15</td>\n",
       "      <td>16</td>\n",
       "      <td>17</td>\n",
       "    </tr>\n",
       "  </tbody>\n",
       "</table>\n",
       "</div>"
      ],
      "text/plain": [
       "    x   y   z\n",
       "c  10  11  12\n",
       "d  15  16  17"
      ]
     },
     "execution_count": 14,
     "metadata": {},
     "output_type": "execute_result"
    }
   ],
   "source": [
    "df.loc['c': 'd' , :'z']"
   ]
  },
  {
   "cell_type": "code",
   "execution_count": 13,
   "metadata": {},
   "outputs": [
    {
     "data": {
      "text/plain": [
       "a     3\n",
       "b     8\n",
       "c    13\n",
       "d    18\n",
       "e    23\n",
       "Name: a, dtype: int32"
      ]
     },
     "execution_count": 13,
     "metadata": {},
     "output_type": "execute_result"
    }
   ],
   "source": [
    "df.iloc[:, 3] "
   ]
  },
  {
   "cell_type": "code",
   "execution_count": 27,
   "metadata": {},
   "outputs": [],
   "source": [
    "#data won’t be meaningful and any relationship we might observe might be due to confounding relationships\n",
    "#A more advanced implementation might look to group all these job descriptions into categories and/or examine\n",
    "#if Lending Club’s model looks at (annual_inc + emp_title) versus just annual_inc\n",
    "loan_df.drop(['emp_title'],1, inplace=True)"
   ]
  },
  {
   "cell_type": "code",
   "execution_count": 28,
   "metadata": {},
   "outputs": [],
   "source": [
    "# droping columns having misleading values, missing values > 50%, indentity values, encrypted values\n",
    "loan_df.drop(['mths_since_last_delinq','mths_since_last_record','collections_12_mths_ex_med','Notes','purpose','earliest_cr_line','Id','collections_12_mths_ex_med','initial_list_status','zip_code'], axis=1,inplace=True)"
   ]
  },
  {
   "cell_type": "code",
   "execution_count": 29,
   "metadata": {
    "scrolled": true
   },
   "outputs": [
    {
     "data": {
      "text/plain": [
       "10    2160\n",
       "1     2083\n",
       "2     1183\n",
       "3     1010\n",
       "4      889\n",
       "5      779\n",
       "6      535\n",
       "7      421\n",
       "8      351\n",
       "9      331\n",
       "na     250\n",
       "22       5\n",
       "11       2\n",
       "33       1\n",
       "Name: emp_length, dtype: int64"
      ]
     },
     "execution_count": 29,
     "metadata": {},
     "output_type": "execute_result"
    }
   ],
   "source": [
    "loan_df.emp_length.value_counts()"
   ]
  },
  {
   "cell_type": "code",
   "execution_count": 35,
   "metadata": {},
   "outputs": [
    {
     "data": {
      "text/html": [
       "<div>\n",
       "<style scoped>\n",
       "    .dataframe tbody tr th:only-of-type {\n",
       "        vertical-align: middle;\n",
       "    }\n",
       "\n",
       "    .dataframe tbody tr th {\n",
       "        vertical-align: top;\n",
       "    }\n",
       "\n",
       "    .dataframe thead th {\n",
       "        text-align: right;\n",
       "    }\n",
       "</style>\n",
       "<table border=\"1\" class=\"dataframe\">\n",
       "  <thead>\n",
       "    <tr style=\"text-align: right;\">\n",
       "      <th></th>\n",
       "      <th>is_bad</th>\n",
       "      <th>emp_length</th>\n",
       "      <th>home_ownership</th>\n",
       "      <th>annual_inc</th>\n",
       "      <th>verification_status</th>\n",
       "      <th>pymnt_plan</th>\n",
       "      <th>purpose_cat</th>\n",
       "      <th>addr_state</th>\n",
       "      <th>debt_to_income</th>\n",
       "      <th>delinq_2yrs</th>\n",
       "      <th>inq_last_6mths</th>\n",
       "      <th>open_acc</th>\n",
       "      <th>pub_rec</th>\n",
       "      <th>revol_bal</th>\n",
       "      <th>revol_util</th>\n",
       "      <th>total_acc</th>\n",
       "      <th>mths_since_last_major_derog</th>\n",
       "      <th>policy_code</th>\n",
       "    </tr>\n",
       "  </thead>\n",
       "  <tbody>\n",
       "    <tr>\n",
       "      <th>0</th>\n",
       "      <td>0</td>\n",
       "      <td>10.0</td>\n",
       "      <td>MORTGAGE</td>\n",
       "      <td>50000.0</td>\n",
       "      <td>not verified</td>\n",
       "      <td>n</td>\n",
       "      <td>medical</td>\n",
       "      <td>TX</td>\n",
       "      <td>10.87</td>\n",
       "      <td>0.0</td>\n",
       "      <td>0.0</td>\n",
       "      <td>15.0</td>\n",
       "      <td>0.0</td>\n",
       "      <td>12087</td>\n",
       "      <td>12.1</td>\n",
       "      <td>44.0</td>\n",
       "      <td>1</td>\n",
       "      <td>PC4</td>\n",
       "    </tr>\n",
       "    <tr>\n",
       "      <th>1</th>\n",
       "      <td>0</td>\n",
       "      <td>1.0</td>\n",
       "      <td>RENT</td>\n",
       "      <td>39216.0</td>\n",
       "      <td>not verified</td>\n",
       "      <td>n</td>\n",
       "      <td>debt consolidation</td>\n",
       "      <td>KS</td>\n",
       "      <td>9.15</td>\n",
       "      <td>0.0</td>\n",
       "      <td>2.0</td>\n",
       "      <td>4.0</td>\n",
       "      <td>0.0</td>\n",
       "      <td>10114</td>\n",
       "      <td>64.0</td>\n",
       "      <td>5.0</td>\n",
       "      <td>2</td>\n",
       "      <td>PC1</td>\n",
       "    </tr>\n",
       "    <tr>\n",
       "      <th>2</th>\n",
       "      <td>0</td>\n",
       "      <td>4.0</td>\n",
       "      <td>RENT</td>\n",
       "      <td>65000.0</td>\n",
       "      <td>not verified</td>\n",
       "      <td>n</td>\n",
       "      <td>credit card</td>\n",
       "      <td>CA</td>\n",
       "      <td>11.24</td>\n",
       "      <td>0.0</td>\n",
       "      <td>0.0</td>\n",
       "      <td>4.0</td>\n",
       "      <td>0.0</td>\n",
       "      <td>81</td>\n",
       "      <td>0.6</td>\n",
       "      <td>8.0</td>\n",
       "      <td>3</td>\n",
       "      <td>PC4</td>\n",
       "    </tr>\n",
       "    <tr>\n",
       "      <th>3</th>\n",
       "      <td>0</td>\n",
       "      <td>10.0</td>\n",
       "      <td>MORTGAGE</td>\n",
       "      <td>57500.0</td>\n",
       "      <td>not verified</td>\n",
       "      <td>n</td>\n",
       "      <td>debt consolidation</td>\n",
       "      <td>NY</td>\n",
       "      <td>6.18</td>\n",
       "      <td>1.0</td>\n",
       "      <td>0.0</td>\n",
       "      <td>6.0</td>\n",
       "      <td>0.0</td>\n",
       "      <td>10030</td>\n",
       "      <td>37.1</td>\n",
       "      <td>23.0</td>\n",
       "      <td>2</td>\n",
       "      <td>PC2</td>\n",
       "    </tr>\n",
       "    <tr>\n",
       "      <th>4</th>\n",
       "      <td>0</td>\n",
       "      <td>10.0</td>\n",
       "      <td>MORTGAGE</td>\n",
       "      <td>50004.0</td>\n",
       "      <td>VERIFIED - income</td>\n",
       "      <td>n</td>\n",
       "      <td>debt consolidation</td>\n",
       "      <td>OH</td>\n",
       "      <td>19.03</td>\n",
       "      <td>0.0</td>\n",
       "      <td>4.0</td>\n",
       "      <td>8.0</td>\n",
       "      <td>0.0</td>\n",
       "      <td>10740</td>\n",
       "      <td>40.4</td>\n",
       "      <td>21.0</td>\n",
       "      <td>3</td>\n",
       "      <td>PC3</td>\n",
       "    </tr>\n",
       "    <tr>\n",
       "      <th>...</th>\n",
       "      <td>...</td>\n",
       "      <td>...</td>\n",
       "      <td>...</td>\n",
       "      <td>...</td>\n",
       "      <td>...</td>\n",
       "      <td>...</td>\n",
       "      <td>...</td>\n",
       "      <td>...</td>\n",
       "      <td>...</td>\n",
       "      <td>...</td>\n",
       "      <td>...</td>\n",
       "      <td>...</td>\n",
       "      <td>...</td>\n",
       "      <td>...</td>\n",
       "      <td>...</td>\n",
       "      <td>...</td>\n",
       "      <td>...</td>\n",
       "      <td>...</td>\n",
       "    </tr>\n",
       "    <tr>\n",
       "      <th>9995</th>\n",
       "      <td>0</td>\n",
       "      <td>5.0</td>\n",
       "      <td>MORTGAGE</td>\n",
       "      <td>66250.0</td>\n",
       "      <td>VERIFIED - income</td>\n",
       "      <td>n</td>\n",
       "      <td>wedding</td>\n",
       "      <td>MA</td>\n",
       "      <td>9.40</td>\n",
       "      <td>0.0</td>\n",
       "      <td>1.0</td>\n",
       "      <td>8.0</td>\n",
       "      <td>0.0</td>\n",
       "      <td>3656</td>\n",
       "      <td>24.1</td>\n",
       "      <td>10.0</td>\n",
       "      <td>2</td>\n",
       "      <td>PC3</td>\n",
       "    </tr>\n",
       "    <tr>\n",
       "      <th>9996</th>\n",
       "      <td>0</td>\n",
       "      <td>1.0</td>\n",
       "      <td>RENT</td>\n",
       "      <td>26000.0</td>\n",
       "      <td>VERIFIED - income source</td>\n",
       "      <td>n</td>\n",
       "      <td>debt consolidation</td>\n",
       "      <td>NY</td>\n",
       "      <td>20.49</td>\n",
       "      <td>0.0</td>\n",
       "      <td>1.0</td>\n",
       "      <td>8.0</td>\n",
       "      <td>0.0</td>\n",
       "      <td>6709</td>\n",
       "      <td>58.9</td>\n",
       "      <td>12.0</td>\n",
       "      <td>2</td>\n",
       "      <td>PC3</td>\n",
       "    </tr>\n",
       "    <tr>\n",
       "      <th>9997</th>\n",
       "      <td>0</td>\n",
       "      <td>8.0</td>\n",
       "      <td>RENT</td>\n",
       "      <td>47831.0</td>\n",
       "      <td>not verified</td>\n",
       "      <td>n</td>\n",
       "      <td>debt consolidation</td>\n",
       "      <td>NJ</td>\n",
       "      <td>24.13</td>\n",
       "      <td>0.0</td>\n",
       "      <td>0.0</td>\n",
       "      <td>9.0</td>\n",
       "      <td>1.0</td>\n",
       "      <td>11346</td>\n",
       "      <td>60.7</td>\n",
       "      <td>17.0</td>\n",
       "      <td>3</td>\n",
       "      <td>PC3</td>\n",
       "    </tr>\n",
       "    <tr>\n",
       "      <th>9998</th>\n",
       "      <td>0</td>\n",
       "      <td>6.0</td>\n",
       "      <td>MORTGAGE</td>\n",
       "      <td>70000.0</td>\n",
       "      <td>not verified</td>\n",
       "      <td>n</td>\n",
       "      <td>major purchase</td>\n",
       "      <td>VA</td>\n",
       "      <td>16.18</td>\n",
       "      <td>2.0</td>\n",
       "      <td>2.0</td>\n",
       "      <td>9.0</td>\n",
       "      <td>0.0</td>\n",
       "      <td>17157</td>\n",
       "      <td>50.9</td>\n",
       "      <td>27.0</td>\n",
       "      <td>2</td>\n",
       "      <td>PC3</td>\n",
       "    </tr>\n",
       "    <tr>\n",
       "      <th>9999</th>\n",
       "      <td>0</td>\n",
       "      <td>1.0</td>\n",
       "      <td>RENT</td>\n",
       "      <td>70560.0</td>\n",
       "      <td>not verified</td>\n",
       "      <td>n</td>\n",
       "      <td>credit card</td>\n",
       "      <td>CA</td>\n",
       "      <td>16.13</td>\n",
       "      <td>0.0</td>\n",
       "      <td>1.0</td>\n",
       "      <td>15.0</td>\n",
       "      <td>0.0</td>\n",
       "      <td>2304</td>\n",
       "      <td>22.6</td>\n",
       "      <td>34.0</td>\n",
       "      <td>2</td>\n",
       "      <td>PC5</td>\n",
       "    </tr>\n",
       "  </tbody>\n",
       "</table>\n",
       "<p>10000 rows × 18 columns</p>\n",
       "</div>"
      ],
      "text/plain": [
       "      is_bad  emp_length home_ownership  annual_inc       verification_status  \\\n",
       "0          0        10.0       MORTGAGE     50000.0              not verified   \n",
       "1          0         1.0           RENT     39216.0              not verified   \n",
       "2          0         4.0           RENT     65000.0              not verified   \n",
       "3          0        10.0       MORTGAGE     57500.0              not verified   \n",
       "4          0        10.0       MORTGAGE     50004.0         VERIFIED - income   \n",
       "...      ...         ...            ...         ...                       ...   \n",
       "9995       0         5.0       MORTGAGE     66250.0         VERIFIED - income   \n",
       "9996       0         1.0           RENT     26000.0  VERIFIED - income source   \n",
       "9997       0         8.0           RENT     47831.0              not verified   \n",
       "9998       0         6.0       MORTGAGE     70000.0              not verified   \n",
       "9999       0         1.0           RENT     70560.0              not verified   \n",
       "\n",
       "     pymnt_plan         purpose_cat addr_state  debt_to_income  delinq_2yrs  \\\n",
       "0             n             medical         TX           10.87          0.0   \n",
       "1             n  debt consolidation         KS            9.15          0.0   \n",
       "2             n         credit card         CA           11.24          0.0   \n",
       "3             n  debt consolidation         NY            6.18          1.0   \n",
       "4             n  debt consolidation         OH           19.03          0.0   \n",
       "...         ...                 ...        ...             ...          ...   \n",
       "9995          n             wedding         MA            9.40          0.0   \n",
       "9996          n  debt consolidation         NY           20.49          0.0   \n",
       "9997          n  debt consolidation         NJ           24.13          0.0   \n",
       "9998          n      major purchase         VA           16.18          2.0   \n",
       "9999          n         credit card         CA           16.13          0.0   \n",
       "\n",
       "      inq_last_6mths  open_acc  pub_rec  revol_bal  revol_util  total_acc  \\\n",
       "0                0.0      15.0      0.0      12087        12.1       44.0   \n",
       "1                2.0       4.0      0.0      10114        64.0        5.0   \n",
       "2                0.0       4.0      0.0         81         0.6        8.0   \n",
       "3                0.0       6.0      0.0      10030        37.1       23.0   \n",
       "4                4.0       8.0      0.0      10740        40.4       21.0   \n",
       "...              ...       ...      ...        ...         ...        ...   \n",
       "9995             1.0       8.0      0.0       3656        24.1       10.0   \n",
       "9996             1.0       8.0      0.0       6709        58.9       12.0   \n",
       "9997             0.0       9.0      1.0      11346        60.7       17.0   \n",
       "9998             2.0       9.0      0.0      17157        50.9       27.0   \n",
       "9999             1.0      15.0      0.0       2304        22.6       34.0   \n",
       "\n",
       "      mths_since_last_major_derog policy_code  \n",
       "0                               1         PC4  \n",
       "1                               2         PC1  \n",
       "2                               3         PC4  \n",
       "3                               2         PC2  \n",
       "4                               3         PC3  \n",
       "...                           ...         ...  \n",
       "9995                            2         PC3  \n",
       "9996                            2         PC3  \n",
       "9997                            3         PC3  \n",
       "9998                            2         PC3  \n",
       "9999                            2         PC5  \n",
       "\n",
       "[10000 rows x 18 columns]"
      ]
     },
     "execution_count": 35,
     "metadata": {},
     "output_type": "execute_result"
    }
   ],
   "source": [
    "#filling na values with avreage values\n",
    "loan_df['emp_length'] = pd.to_numeric(loan_df['emp_length'], errors='coerce')\n",
    "avg_value=loan_df['emp_length'].median()\n",
    "loan_df['emp_length'] =loan_df['emp_length'].fillna(avg_value)\n",
    "loan_df"
   ]
  },
  {
   "cell_type": "code",
   "execution_count": null,
   "metadata": {},
   "outputs": [],
   "source": []
  },
  {
   "cell_type": "code",
   "execution_count": 356,
   "metadata": {},
   "outputs": [
    {
     "data": {
      "text/plain": [
       "is_bad                          0\n",
       "emp_length                      0\n",
       "home_ownership                  0\n",
       "annual_inc                      1\n",
       "verification_status             0\n",
       "pymnt_plan                      0\n",
       "purpose_cat                     0\n",
       "addr_state                      0\n",
       "debt_to_income                  0\n",
       "delinq_2yrs                     5\n",
       "inq_last_6mths                  5\n",
       "open_acc                        5\n",
       "pub_rec                         5\n",
       "revol_bal                       0\n",
       "revol_util                     26\n",
       "total_acc                       5\n",
       "mths_since_last_major_derog     0\n",
       "policy_code                     0\n",
       "dtype: int64"
      ]
     },
     "execution_count": 356,
     "metadata": {},
     "output_type": "execute_result"
    }
   ],
   "source": [
    "loan_df.isnull().sum()"
   ]
  },
  {
   "cell_type": "code",
   "execution_count": 357,
   "metadata": {},
   "outputs": [
    {
     "data": {
      "text/plain": [
       "not verified                4367\n",
       "VERIFIED - income           3214\n",
       "VERIFIED - income source    2419\n",
       "Name: verification_status, dtype: int64"
      ]
     },
     "execution_count": 357,
     "metadata": {},
     "output_type": "execute_result"
    }
   ],
   "source": [
    "#VERIFIED - income and VERIFIED - income source could potentially be the same criteria\n",
    "loan_df.verification_status.value_counts()"
   ]
  },
  {
   "cell_type": "code",
   "execution_count": 358,
   "metadata": {
    "scrolled": true
   },
   "outputs": [],
   "source": [
    "for i in loan_df._get_numeric_data().columns:\n",
    "    loan_df[i] = loan_df[i].fillna(loan_df[i].median())"
   ]
  },
  {
   "cell_type": "code",
   "execution_count": 41,
   "metadata": {},
   "outputs": [],
   "source": [
    "a = np.array([[1,2,3],[4,5,6],[7,8,9]])"
   ]
  },
  {
   "cell_type": "code",
   "execution_count": 43,
   "metadata": {},
   "outputs": [
    {
     "data": {
      "text/plain": [
       "array([[1, 2, 3],\n",
       "       [0, 5, 6],\n",
       "       [0, 0, 9]])"
      ]
     },
     "execution_count": 43,
     "metadata": {},
     "output_type": "execute_result"
    }
   ],
   "source": [
    "tri_upper_diag = np.triu(a, k=0)\n",
    "tri_upper_diag"
   ]
  },
  {
   "cell_type": "code",
   "execution_count": 44,
   "metadata": {},
   "outputs": [
    {
     "data": {
      "text/plain": [
       "array([[1, 0, 0],\n",
       "       [4, 5, 0],\n",
       "       [7, 8, 9]])"
      ]
     },
     "execution_count": 44,
     "metadata": {},
     "output_type": "execute_result"
    }
   ],
   "source": [
    "tri_lower_diag = np.tril(a, k=0)\n",
    "tri_lower_diag"
   ]
  },
  {
   "cell_type": "markdown",
   "metadata": {},
   "source": [
    "# EDA - on Leanding club data\n"
   ]
  },
  {
   "cell_type": "code",
   "execution_count": 38,
   "metadata": {},
   "outputs": [
    {
     "data": {
      "text/html": [
       "<div>\n",
       "<style scoped>\n",
       "    .dataframe tbody tr th:only-of-type {\n",
       "        vertical-align: middle;\n",
       "    }\n",
       "\n",
       "    .dataframe tbody tr th {\n",
       "        vertical-align: top;\n",
       "    }\n",
       "\n",
       "    .dataframe thead th {\n",
       "        text-align: right;\n",
       "    }\n",
       "</style>\n",
       "<table border=\"1\" class=\"dataframe\">\n",
       "  <thead>\n",
       "    <tr style=\"text-align: right;\">\n",
       "      <th></th>\n",
       "      <th>is_bad</th>\n",
       "      <th>emp_length</th>\n",
       "      <th>annual_inc</th>\n",
       "      <th>debt_to_income</th>\n",
       "      <th>delinq_2yrs</th>\n",
       "      <th>inq_last_6mths</th>\n",
       "      <th>open_acc</th>\n",
       "      <th>pub_rec</th>\n",
       "      <th>revol_bal</th>\n",
       "      <th>revol_util</th>\n",
       "      <th>total_acc</th>\n",
       "      <th>mths_since_last_major_derog</th>\n",
       "    </tr>\n",
       "  </thead>\n",
       "  <tbody>\n",
       "    <tr>\n",
       "      <th>is_bad</th>\n",
       "      <td>1.000000</td>\n",
       "      <td>-0.024146</td>\n",
       "      <td>-0.050975</td>\n",
       "      <td>0.029873</td>\n",
       "      <td>0.021842</td>\n",
       "      <td>-0.001146</td>\n",
       "      <td>-0.020356</td>\n",
       "      <td>0.032174</td>\n",
       "      <td>-0.016202</td>\n",
       "      <td>0.087876</td>\n",
       "      <td>-0.055307</td>\n",
       "      <td>0.015481</td>\n",
       "    </tr>\n",
       "    <tr>\n",
       "      <th>emp_length</th>\n",
       "      <td>-0.024146</td>\n",
       "      <td>1.000000</td>\n",
       "      <td>0.148533</td>\n",
       "      <td>0.058816</td>\n",
       "      <td>0.024565</td>\n",
       "      <td>-0.017201</td>\n",
       "      <td>0.100505</td>\n",
       "      <td>0.054567</td>\n",
       "      <td>0.111099</td>\n",
       "      <td>0.021091</td>\n",
       "      <td>0.209183</td>\n",
       "      <td>0.002707</td>\n",
       "    </tr>\n",
       "    <tr>\n",
       "      <th>annual_inc</th>\n",
       "      <td>-0.050975</td>\n",
       "      <td>0.148533</td>\n",
       "      <td>1.000000</td>\n",
       "      <td>-0.130184</td>\n",
       "      <td>0.038670</td>\n",
       "      <td>0.056718</td>\n",
       "      <td>0.233821</td>\n",
       "      <td>-0.010398</td>\n",
       "      <td>0.359817</td>\n",
       "      <td>0.030792</td>\n",
       "      <td>0.329146</td>\n",
       "      <td>-0.002476</td>\n",
       "    </tr>\n",
       "    <tr>\n",
       "      <th>debt_to_income</th>\n",
       "      <td>0.029873</td>\n",
       "      <td>0.058816</td>\n",
       "      <td>-0.130184</td>\n",
       "      <td>1.000000</td>\n",
       "      <td>-0.034393</td>\n",
       "      <td>0.012819</td>\n",
       "      <td>0.301003</td>\n",
       "      <td>-0.005351</td>\n",
       "      <td>0.163794</td>\n",
       "      <td>0.271439</td>\n",
       "      <td>0.233594</td>\n",
       "      <td>-0.007031</td>\n",
       "    </tr>\n",
       "    <tr>\n",
       "      <th>delinq_2yrs</th>\n",
       "      <td>0.021842</td>\n",
       "      <td>0.024565</td>\n",
       "      <td>0.038670</td>\n",
       "      <td>-0.034393</td>\n",
       "      <td>1.000000</td>\n",
       "      <td>0.039215</td>\n",
       "      <td>0.027398</td>\n",
       "      <td>0.020411</td>\n",
       "      <td>-0.030090</td>\n",
       "      <td>-0.051301</td>\n",
       "      <td>0.081918</td>\n",
       "      <td>-0.002744</td>\n",
       "    </tr>\n",
       "    <tr>\n",
       "      <th>inq_last_6mths</th>\n",
       "      <td>-0.001146</td>\n",
       "      <td>-0.017201</td>\n",
       "      <td>0.056718</td>\n",
       "      <td>0.012819</td>\n",
       "      <td>0.039215</td>\n",
       "      <td>1.000000</td>\n",
       "      <td>0.088105</td>\n",
       "      <td>0.054711</td>\n",
       "      <td>0.043130</td>\n",
       "      <td>-0.037232</td>\n",
       "      <td>0.084671</td>\n",
       "      <td>0.008570</td>\n",
       "    </tr>\n",
       "    <tr>\n",
       "      <th>open_acc</th>\n",
       "      <td>-0.020356</td>\n",
       "      <td>0.100505</td>\n",
       "      <td>0.233821</td>\n",
       "      <td>0.301003</td>\n",
       "      <td>0.027398</td>\n",
       "      <td>0.088105</td>\n",
       "      <td>1.000000</td>\n",
       "      <td>0.006680</td>\n",
       "      <td>0.233842</td>\n",
       "      <td>-0.074018</td>\n",
       "      <td>0.695387</td>\n",
       "      <td>-0.006169</td>\n",
       "    </tr>\n",
       "    <tr>\n",
       "      <th>pub_rec</th>\n",
       "      <td>0.032174</td>\n",
       "      <td>0.054567</td>\n",
       "      <td>-0.010398</td>\n",
       "      <td>-0.005351</td>\n",
       "      <td>0.020411</td>\n",
       "      <td>0.054711</td>\n",
       "      <td>0.006680</td>\n",
       "      <td>1.000000</td>\n",
       "      <td>-0.038547</td>\n",
       "      <td>0.051016</td>\n",
       "      <td>-0.013598</td>\n",
       "      <td>-0.002614</td>\n",
       "    </tr>\n",
       "    <tr>\n",
       "      <th>revol_bal</th>\n",
       "      <td>-0.016202</td>\n",
       "      <td>0.111099</td>\n",
       "      <td>0.359817</td>\n",
       "      <td>0.163794</td>\n",
       "      <td>-0.030090</td>\n",
       "      <td>0.043130</td>\n",
       "      <td>0.233842</td>\n",
       "      <td>-0.038547</td>\n",
       "      <td>1.000000</td>\n",
       "      <td>0.201962</td>\n",
       "      <td>0.257274</td>\n",
       "      <td>-0.007541</td>\n",
       "    </tr>\n",
       "    <tr>\n",
       "      <th>revol_util</th>\n",
       "      <td>0.087876</td>\n",
       "      <td>0.021091</td>\n",
       "      <td>0.030792</td>\n",
       "      <td>0.271439</td>\n",
       "      <td>-0.051301</td>\n",
       "      <td>-0.037232</td>\n",
       "      <td>-0.074018</td>\n",
       "      <td>0.051016</td>\n",
       "      <td>0.201962</td>\n",
       "      <td>1.000000</td>\n",
       "      <td>-0.051072</td>\n",
       "      <td>-0.002756</td>\n",
       "    </tr>\n",
       "    <tr>\n",
       "      <th>total_acc</th>\n",
       "      <td>-0.055307</td>\n",
       "      <td>0.209183</td>\n",
       "      <td>0.329146</td>\n",
       "      <td>0.233594</td>\n",
       "      <td>0.081918</td>\n",
       "      <td>0.084671</td>\n",
       "      <td>0.695387</td>\n",
       "      <td>-0.013598</td>\n",
       "      <td>0.257274</td>\n",
       "      <td>-0.051072</td>\n",
       "      <td>1.000000</td>\n",
       "      <td>0.002505</td>\n",
       "    </tr>\n",
       "    <tr>\n",
       "      <th>mths_since_last_major_derog</th>\n",
       "      <td>0.015481</td>\n",
       "      <td>0.002707</td>\n",
       "      <td>-0.002476</td>\n",
       "      <td>-0.007031</td>\n",
       "      <td>-0.002744</td>\n",
       "      <td>0.008570</td>\n",
       "      <td>-0.006169</td>\n",
       "      <td>-0.002614</td>\n",
       "      <td>-0.007541</td>\n",
       "      <td>-0.002756</td>\n",
       "      <td>0.002505</td>\n",
       "      <td>1.000000</td>\n",
       "    </tr>\n",
       "  </tbody>\n",
       "</table>\n",
       "</div>"
      ],
      "text/plain": [
       "                               is_bad  emp_length  annual_inc  debt_to_income  \\\n",
       "is_bad                       1.000000   -0.024146   -0.050975        0.029873   \n",
       "emp_length                  -0.024146    1.000000    0.148533        0.058816   \n",
       "annual_inc                  -0.050975    0.148533    1.000000       -0.130184   \n",
       "debt_to_income               0.029873    0.058816   -0.130184        1.000000   \n",
       "delinq_2yrs                  0.021842    0.024565    0.038670       -0.034393   \n",
       "inq_last_6mths              -0.001146   -0.017201    0.056718        0.012819   \n",
       "open_acc                    -0.020356    0.100505    0.233821        0.301003   \n",
       "pub_rec                      0.032174    0.054567   -0.010398       -0.005351   \n",
       "revol_bal                   -0.016202    0.111099    0.359817        0.163794   \n",
       "revol_util                   0.087876    0.021091    0.030792        0.271439   \n",
       "total_acc                   -0.055307    0.209183    0.329146        0.233594   \n",
       "mths_since_last_major_derog  0.015481    0.002707   -0.002476       -0.007031   \n",
       "\n",
       "                             delinq_2yrs  inq_last_6mths  open_acc   pub_rec  \\\n",
       "is_bad                          0.021842       -0.001146 -0.020356  0.032174   \n",
       "emp_length                      0.024565       -0.017201  0.100505  0.054567   \n",
       "annual_inc                      0.038670        0.056718  0.233821 -0.010398   \n",
       "debt_to_income                 -0.034393        0.012819  0.301003 -0.005351   \n",
       "delinq_2yrs                     1.000000        0.039215  0.027398  0.020411   \n",
       "inq_last_6mths                  0.039215        1.000000  0.088105  0.054711   \n",
       "open_acc                        0.027398        0.088105  1.000000  0.006680   \n",
       "pub_rec                         0.020411        0.054711  0.006680  1.000000   \n",
       "revol_bal                      -0.030090        0.043130  0.233842 -0.038547   \n",
       "revol_util                     -0.051301       -0.037232 -0.074018  0.051016   \n",
       "total_acc                       0.081918        0.084671  0.695387 -0.013598   \n",
       "mths_since_last_major_derog    -0.002744        0.008570 -0.006169 -0.002614   \n",
       "\n",
       "                             revol_bal  revol_util  total_acc  \\\n",
       "is_bad                       -0.016202    0.087876  -0.055307   \n",
       "emp_length                    0.111099    0.021091   0.209183   \n",
       "annual_inc                    0.359817    0.030792   0.329146   \n",
       "debt_to_income                0.163794    0.271439   0.233594   \n",
       "delinq_2yrs                  -0.030090   -0.051301   0.081918   \n",
       "inq_last_6mths                0.043130   -0.037232   0.084671   \n",
       "open_acc                      0.233842   -0.074018   0.695387   \n",
       "pub_rec                      -0.038547    0.051016  -0.013598   \n",
       "revol_bal                     1.000000    0.201962   0.257274   \n",
       "revol_util                    0.201962    1.000000  -0.051072   \n",
       "total_acc                     0.257274   -0.051072   1.000000   \n",
       "mths_since_last_major_derog  -0.007541   -0.002756   0.002505   \n",
       "\n",
       "                             mths_since_last_major_derog  \n",
       "is_bad                                          0.015481  \n",
       "emp_length                                      0.002707  \n",
       "annual_inc                                     -0.002476  \n",
       "debt_to_income                                 -0.007031  \n",
       "delinq_2yrs                                    -0.002744  \n",
       "inq_last_6mths                                  0.008570  \n",
       "open_acc                                       -0.006169  \n",
       "pub_rec                                        -0.002614  \n",
       "revol_bal                                      -0.007541  \n",
       "revol_util                                     -0.002756  \n",
       "total_acc                                       0.002505  \n",
       "mths_since_last_major_derog                     1.000000  "
      ]
     },
     "execution_count": 38,
     "metadata": {},
     "output_type": "execute_result"
    }
   ],
   "source": [
    "cor = loan_df.corr()\n",
    "cor"
   ]
  },
  {
   "cell_type": "code",
   "execution_count": 36,
   "metadata": {},
   "outputs": [
    {
     "data": {
      "text/plain": [
       "is_bad                       is_bad                         1.000000\n",
       "emp_length                   emp_length                     1.000000\n",
       "annual_inc                   annual_inc                     1.000000\n",
       "debt_to_income               debt_to_income                 1.000000\n",
       "delinq_2yrs                  delinq_2yrs                    1.000000\n",
       "inq_last_6mths               inq_last_6mths                 1.000000\n",
       "open_acc                     open_acc                       1.000000\n",
       "                             total_acc                      0.695387\n",
       "pub_rec                      pub_rec                        1.000000\n",
       "revol_bal                    revol_bal                      1.000000\n",
       "revol_util                   revol_util                     1.000000\n",
       "total_acc                    open_acc                       0.695387\n",
       "                             total_acc                      1.000000\n",
       "mths_since_last_major_derog  mths_since_last_major_derog    1.000000\n",
       "dtype: float64"
      ]
     },
     "execution_count": 36,
     "metadata": {},
     "output_type": "execute_result"
    }
   ],
   "source": [
    "#highly corelated attributes\n",
    "cor = loan_df.corr()\n",
    "#cor.loc[:,:] = np.tril(cor, k=-1) \n",
    "cor = cor.stack()\n",
    "cor[(cor > 0.55) | (cor < -0.55)]"
   ]
  },
  {
   "cell_type": "code",
   "execution_count": 360,
   "metadata": {},
   "outputs": [],
   "source": [
    "loan_df.drop(['total_acc'], axis=1, inplace=True)"
   ]
  },
  {
   "cell_type": "code",
   "execution_count": 361,
   "metadata": {},
   "outputs": [
    {
     "data": {
      "text/plain": [
       "(2,)"
      ]
     },
     "execution_count": 361,
     "metadata": {},
     "output_type": "execute_result"
    }
   ],
   "source": [
    "loan_df.pymnt_plan.unique().shape"
   ]
  },
  {
   "cell_type": "code",
   "execution_count": 362,
   "metadata": {},
   "outputs": [
    {
     "data": {
      "text/plain": [
       "n    9998\n",
       "y       2\n",
       "Name: pymnt_plan, dtype: int64"
      ]
     },
     "execution_count": 362,
     "metadata": {},
     "output_type": "execute_result"
    }
   ],
   "source": [
    "loan_df.pymnt_plan.value_counts()"
   ]
  },
  {
   "cell_type": "code",
   "execution_count": 363,
   "metadata": {},
   "outputs": [],
   "source": [
    "# droping pymnt_plan, it is identity attribute\n",
    "loan_df.drop(['pymnt_plan'],1, inplace=True)"
   ]
  },
  {
   "cell_type": "code",
   "execution_count": 364,
   "metadata": {},
   "outputs": [
    {
     "data": {
      "text/html": [
       "<div>\n",
       "<style scoped>\n",
       "    .dataframe tbody tr th:only-of-type {\n",
       "        vertical-align: middle;\n",
       "    }\n",
       "\n",
       "    .dataframe tbody tr th {\n",
       "        vertical-align: top;\n",
       "    }\n",
       "\n",
       "    .dataframe thead th {\n",
       "        text-align: right;\n",
       "    }\n",
       "</style>\n",
       "<table border=\"1\" class=\"dataframe\">\n",
       "  <thead>\n",
       "    <tr style=\"text-align: right;\">\n",
       "      <th></th>\n",
       "      <th>home_ownership</th>\n",
       "      <th>verification_status</th>\n",
       "      <th>purpose_cat</th>\n",
       "      <th>addr_state</th>\n",
       "      <th>policy_code</th>\n",
       "    </tr>\n",
       "  </thead>\n",
       "  <tbody>\n",
       "    <tr>\n",
       "      <th>count</th>\n",
       "      <td>10000</td>\n",
       "      <td>10000</td>\n",
       "      <td>10000</td>\n",
       "      <td>10000</td>\n",
       "      <td>10000</td>\n",
       "    </tr>\n",
       "    <tr>\n",
       "      <th>unique</th>\n",
       "      <td>5</td>\n",
       "      <td>3</td>\n",
       "      <td>27</td>\n",
       "      <td>50</td>\n",
       "      <td>5</td>\n",
       "    </tr>\n",
       "    <tr>\n",
       "      <th>top</th>\n",
       "      <td>RENT</td>\n",
       "      <td>not verified</td>\n",
       "      <td>debt consolidation</td>\n",
       "      <td>CA</td>\n",
       "      <td>PC3</td>\n",
       "    </tr>\n",
       "    <tr>\n",
       "      <th>freq</th>\n",
       "      <td>4745</td>\n",
       "      <td>4367</td>\n",
       "      <td>4454</td>\n",
       "      <td>1748</td>\n",
       "      <td>2098</td>\n",
       "    </tr>\n",
       "  </tbody>\n",
       "</table>\n",
       "</div>"
      ],
      "text/plain": [
       "       home_ownership verification_status         purpose_cat addr_state  \\\n",
       "count           10000               10000               10000      10000   \n",
       "unique              5                   3                  27         50   \n",
       "top              RENT        not verified  debt consolidation         CA   \n",
       "freq             4745                4367                4454       1748   \n",
       "\n",
       "       policy_code  \n",
       "count        10000  \n",
       "unique           5  \n",
       "top            PC3  \n",
       "freq          2098  "
      ]
     },
     "execution_count": 364,
     "metadata": {},
     "output_type": "execute_result"
    }
   ],
   "source": [
    "loan_df.describe(include=['object'])"
   ]
  },
  {
   "cell_type": "code",
   "execution_count": 365,
   "metadata": {},
   "outputs": [
    {
     "data": {
      "text/plain": [
       "16"
      ]
     },
     "execution_count": 365,
     "metadata": {},
     "output_type": "execute_result"
    }
   ],
   "source": [
    "len(loan_df.columns)"
   ]
  },
  {
   "cell_type": "code",
   "execution_count": 366,
   "metadata": {},
   "outputs": [],
   "source": [
    "#correlation Matrix\n",
    "loan_cor = loan_df.corr()"
   ]
  },
  {
   "cell_type": "code",
   "execution_count": 367,
   "metadata": {},
   "outputs": [
    {
     "data": {
      "text/plain": [
       "<AxesSubplot:>"
      ]
     },
     "execution_count": 367,
     "metadata": {},
     "output_type": "execute_result"
    },
    {
     "data": {
      "image/png": "[encoded data removed]",
      "text/plain": [
       "<Figure size 720x648 with 2 Axes>"
      ]
     },
     "metadata": {
      "needs_background": "light"
     },
     "output_type": "display_data"
    }
   ],
   "source": [
    "#heat map for correlation\n",
    "mask = np.zeros_like(loan_cor, dtype=np.bool)\n",
    "mask[np.triu_indices_from(mask)] = True\n",
    "\n",
    "f, ax = plt.subplots(figsize=(10, 9))\n",
    "\n",
    "cmap = sns.diverging_palette(220, 10, as_cmap=True)\n",
    "\n",
    "sns.heatmap(loan_cor, mask=mask,\n",
    "            vmax=.3,\n",
    "            cmap=cmap,\n",
    "            square=True,\n",
    "            linewidths=.5,\n",
    "            cbar_kws={\"shrink\": .5})"
   ]
  },
  {
   "cell_type": "code",
   "execution_count": 368,
   "metadata": {},
   "outputs": [
    {
     "data": {
      "text/plain": [
       "<AxesSubplot:>"
      ]
     },
     "execution_count": 368,
     "metadata": {},
     "output_type": "execute_result"
    },
    {
     "data": {
      "image/png": "[encoded data removed]",
      "text/plain": [
       "<Figure size 720x360 with 1 Axes>"
      ]
     },
     "metadata": {
      "needs_background": "light"
     },
     "output_type": "display_data"
    }
   ],
   "source": [
    "#analysing loan purpose\n",
    "purpose = loan_df.purpose_cat.value_counts()\n",
    "purpose.plot.barh(figsize =(10,5),color =\"blue\")"
   ]
  },
  {
   "cell_type": "code",
   "execution_count": 369,
   "metadata": {},
   "outputs": [
    {
     "data": {
      "text/plain": [
       "Text(0, 0.5, 'status')"
      ]
     },
     "execution_count": 369,
     "metadata": {},
     "output_type": "execute_result"
    },
    {
     "data": {
      "image/png": "[encoded data removed]",
      "text/plain": [
       "<Figure size 432x288 with 1 Axes>"
      ]
     },
     "metadata": {
      "needs_background": "light"
     },
     "output_type": "display_data"
    }
   ],
   "source": [
    "dist =sns.countplot(data=loan_df,hue='is_bad',x='purpose_cat')\n",
    "dist.set_xticklabels(dist.get_xticklabels(), rotation=40, ha=\"right\")\n",
    "plt.title('Loan distribution')\n",
    "plt.xlabel('purpose',)\n",
    "plt.ylabel('status')"
   ]
  },
  {
   "cell_type": "code",
   "execution_count": 370,
   "metadata": {},
   "outputs": [
    {
     "data": {
      "text/plain": [
       "Text(0, 0.5, 'status')"
      ]
     },
     "execution_count": 370,
     "metadata": {},
     "output_type": "execute_result"
    },
    {
     "data": {
      "image/png": "[encoded data removed]",
      "text/plain": [
       "<Figure size 432x288 with 1 Axes>"
      ]
     },
     "metadata": {
      "needs_background": "light"
     },
     "output_type": "display_data"
    }
   ],
   "source": [
    "dist =sns.countplot(data=loan_df,hue='is_bad',x='verification_status')\n",
    "dist.set_xticklabels(dist.get_xticklabels(), rotation=40, ha=\"right\")\n",
    "plt.title('Loan distribution')\n",
    "plt.xlabel('purpose',)\n",
    "plt.ylabel('status')"
   ]
  },
  {
   "cell_type": "code",
   "execution_count": 371,
   "metadata": {},
   "outputs": [],
   "source": [
    "#analysing bad and not bad loan\n",
    "is_bad_loan = loan_df[loan_df.is_bad == 1]\n",
    "not_bad_loan = loan_df[loan_df.is_bad == 0]"
   ]
  },
  {
   "cell_type": "code",
   "execution_count": 408,
   "metadata": {},
   "outputs": [
    {
     "name": "stdout",
     "output_type": "stream",
     "text": [
      "(8705, 17)\n",
      "(1295, 17)\n",
      "(10000,)\n"
     ]
    }
   ],
   "source": [
    "print(not_bad_data.shape)\n",
    "print(is_bad_data.shape)\n",
    "print(loan_df['is_bad'].shape)"
   ]
  },
  {
   "cell_type": "code",
   "execution_count": 372,
   "metadata": {},
   "outputs": [
    {
     "data": {
      "text/html": [
       "<div>\n",
       "<style scoped>\n",
       "    .dataframe tbody tr th:only-of-type {\n",
       "        vertical-align: middle;\n",
       "    }\n",
       "\n",
       "    .dataframe tbody tr th {\n",
       "        vertical-align: top;\n",
       "    }\n",
       "\n",
       "    .dataframe thead th {\n",
       "        text-align: right;\n",
       "    }\n",
       "</style>\n",
       "<table border=\"1\" class=\"dataframe\">\n",
       "  <thead>\n",
       "    <tr style=\"text-align: right;\">\n",
       "      <th></th>\n",
       "      <th>is_bad</th>\n",
       "      <th>emp_length</th>\n",
       "      <th>home_ownership</th>\n",
       "      <th>annual_inc</th>\n",
       "      <th>verification_status</th>\n",
       "      <th>purpose_cat</th>\n",
       "      <th>addr_state</th>\n",
       "      <th>debt_to_income</th>\n",
       "      <th>delinq_2yrs</th>\n",
       "      <th>inq_last_6mths</th>\n",
       "      <th>open_acc</th>\n",
       "      <th>pub_rec</th>\n",
       "      <th>revol_bal</th>\n",
       "      <th>revol_util</th>\n",
       "      <th>mths_since_last_major_derog</th>\n",
       "      <th>policy_code</th>\n",
       "    </tr>\n",
       "  </thead>\n",
       "  <tbody>\n",
       "    <tr>\n",
       "      <th>16</th>\n",
       "      <td>1</td>\n",
       "      <td>10.0</td>\n",
       "      <td>OWN</td>\n",
       "      <td>22000.0</td>\n",
       "      <td>VERIFIED - income source</td>\n",
       "      <td>other small business</td>\n",
       "      <td>FL</td>\n",
       "      <td>14.95</td>\n",
       "      <td>0.0</td>\n",
       "      <td>0.0</td>\n",
       "      <td>4.0</td>\n",
       "      <td>0.0</td>\n",
       "      <td>8511</td>\n",
       "      <td>78.8</td>\n",
       "      <td>3</td>\n",
       "      <td>PC2</td>\n",
       "    </tr>\n",
       "    <tr>\n",
       "      <th>20</th>\n",
       "      <td>1</td>\n",
       "      <td>2.0</td>\n",
       "      <td>MORTGAGE</td>\n",
       "      <td>72000.0</td>\n",
       "      <td>not verified</td>\n",
       "      <td>small business</td>\n",
       "      <td>OK</td>\n",
       "      <td>17.48</td>\n",
       "      <td>0.0</td>\n",
       "      <td>6.0</td>\n",
       "      <td>13.0</td>\n",
       "      <td>0.0</td>\n",
       "      <td>1249</td>\n",
       "      <td>6.1</td>\n",
       "      <td>3</td>\n",
       "      <td>PC3</td>\n",
       "    </tr>\n",
       "    <tr>\n",
       "      <th>51</th>\n",
       "      <td>1</td>\n",
       "      <td>1.0</td>\n",
       "      <td>MORTGAGE</td>\n",
       "      <td>120000.0</td>\n",
       "      <td>VERIFIED - income source</td>\n",
       "      <td>other</td>\n",
       "      <td>MD</td>\n",
       "      <td>21.16</td>\n",
       "      <td>4.0</td>\n",
       "      <td>1.0</td>\n",
       "      <td>25.0</td>\n",
       "      <td>0.0</td>\n",
       "      <td>43109</td>\n",
       "      <td>72.3</td>\n",
       "      <td>3</td>\n",
       "      <td>PC5</td>\n",
       "    </tr>\n",
       "    <tr>\n",
       "      <th>54</th>\n",
       "      <td>1</td>\n",
       "      <td>1.0</td>\n",
       "      <td>RENT</td>\n",
       "      <td>23040.0</td>\n",
       "      <td>VERIFIED - income source</td>\n",
       "      <td>credit card</td>\n",
       "      <td>CA</td>\n",
       "      <td>12.66</td>\n",
       "      <td>0.0</td>\n",
       "      <td>0.0</td>\n",
       "      <td>6.0</td>\n",
       "      <td>0.0</td>\n",
       "      <td>8282</td>\n",
       "      <td>62.3</td>\n",
       "      <td>2</td>\n",
       "      <td>PC3</td>\n",
       "    </tr>\n",
       "    <tr>\n",
       "      <th>55</th>\n",
       "      <td>1</td>\n",
       "      <td>1.0</td>\n",
       "      <td>RENT</td>\n",
       "      <td>15000.0</td>\n",
       "      <td>VERIFIED - income</td>\n",
       "      <td>other</td>\n",
       "      <td>TX</td>\n",
       "      <td>18.08</td>\n",
       "      <td>0.0</td>\n",
       "      <td>0.0</td>\n",
       "      <td>2.0</td>\n",
       "      <td>0.0</td>\n",
       "      <td>9279</td>\n",
       "      <td>36.5</td>\n",
       "      <td>1</td>\n",
       "      <td>PC4</td>\n",
       "    </tr>\n",
       "  </tbody>\n",
       "</table>\n",
       "</div>"
      ],
      "text/plain": [
       "    is_bad  emp_length home_ownership  annual_inc       verification_status  \\\n",
       "16       1        10.0            OWN     22000.0  VERIFIED - income source   \n",
       "20       1         2.0       MORTGAGE     72000.0              not verified   \n",
       "51       1         1.0       MORTGAGE    120000.0  VERIFIED - income source   \n",
       "54       1         1.0           RENT     23040.0  VERIFIED - income source   \n",
       "55       1         1.0           RENT     15000.0         VERIFIED - income   \n",
       "\n",
       "             purpose_cat addr_state  debt_to_income  delinq_2yrs  \\\n",
       "16  other small business         FL           14.95          0.0   \n",
       "20        small business         OK           17.48          0.0   \n",
       "51                 other         MD           21.16          4.0   \n",
       "54           credit card         CA           12.66          0.0   \n",
       "55                 other         TX           18.08          0.0   \n",
       "\n",
       "    inq_last_6mths  open_acc  pub_rec  revol_bal  revol_util  \\\n",
       "16             0.0       4.0      0.0       8511        78.8   \n",
       "20             6.0      13.0      0.0       1249         6.1   \n",
       "51             1.0      25.0      0.0      43109        72.3   \n",
       "54             0.0       6.0      0.0       8282        62.3   \n",
       "55             0.0       2.0      0.0       9279        36.5   \n",
       "\n",
       "    mths_since_last_major_derog policy_code  \n",
       "16                            3         PC2  \n",
       "20                            3         PC3  \n",
       "51                            3         PC5  \n",
       "54                            2         PC3  \n",
       "55                            1         PC4  "
      ]
     },
     "execution_count": 372,
     "metadata": {},
     "output_type": "execute_result"
    }
   ],
   "source": [
    "is_bad_loan.head()"
   ]
  },
  {
   "cell_type": "code",
   "execution_count": 373,
   "metadata": {},
   "outputs": [
    {
     "data": {
      "text/plain": [
       "<matplotlib.collections.PathCollection at 0x25fd0382c70>"
      ]
     },
     "execution_count": 373,
     "metadata": {},
     "output_type": "execute_result"
    },
    {
     "data": {
      "image/png": "[encoded data removed]",
      "text/plain": [
       "<Figure size 432x288 with 1 Axes>"
      ]
     },
     "metadata": {
      "needs_background": "light"
     },
     "output_type": "display_data"
    }
   ],
   "source": [
    "plt.scatter(x= is_bad_loan['annual_inc'], y= is_bad_data['debt_to_income'])"
   ]
  },
  {
   "cell_type": "code",
   "execution_count": 374,
   "metadata": {},
   "outputs": [
    {
     "data": {
      "text/plain": [
       "<matplotlib.collections.PathCollection at 0x25fd0357d90>"
      ]
     },
     "execution_count": 374,
     "metadata": {},
     "output_type": "execute_result"
    },
    {
     "data": {
      "image/png": "[encoded data removed]",
      "text/plain": [
       "<Figure size 432x288 with 1 Axes>"
      ]
     },
     "metadata": {
      "needs_background": "light"
     },
     "output_type": "display_data"
    }
   ],
   "source": [
    "plt.scatter(x= not_bad_data['annual_inc'], y= not_bad_data['debt_to_income'])"
   ]
  },
  {
   "cell_type": "code",
   "execution_count": 375,
   "metadata": {},
   "outputs": [
    {
     "data": {
      "text/plain": [
       "<seaborn.axisgrid.FacetGrid at 0x25fd03fd730>"
      ]
     },
     "execution_count": 375,
     "metadata": {},
     "output_type": "execute_result"
    },
    {
     "data": {
      "image/png": "[encoded data removed]",
      "text/plain": [
       "<Figure size 443.625x360 with 1 Axes>"
      ]
     },
     "metadata": {
      "needs_background": "light"
     },
     "output_type": "display_data"
    }
   ],
   "source": [
    "sns.FacetGrid(loan_df, hue=\"is_bad\",size=5) \\\n",
    "   .map(plt.scatter, \"annual_inc\", \"debt_to_income\") \\\n",
    "   .add_legend(title = 'Staus', labels = ['Approved','Rejected'])"
   ]
  },
  {
   "cell_type": "code",
   "execution_count": 376,
   "metadata": {},
   "outputs": [
    {
     "data": {
      "text/html": [
       "<div>\n",
       "<style scoped>\n",
       "    .dataframe tbody tr th:only-of-type {\n",
       "        vertical-align: middle;\n",
       "    }\n",
       "\n",
       "    .dataframe tbody tr th {\n",
       "        vertical-align: top;\n",
       "    }\n",
       "\n",
       "    .dataframe thead th {\n",
       "        text-align: right;\n",
       "    }\n",
       "</style>\n",
       "<table border=\"1\" class=\"dataframe\">\n",
       "  <thead>\n",
       "    <tr style=\"text-align: right;\">\n",
       "      <th></th>\n",
       "      <th>is_bad</th>\n",
       "      <th>emp_length</th>\n",
       "      <th>home_ownership</th>\n",
       "      <th>annual_inc</th>\n",
       "      <th>verification_status</th>\n",
       "      <th>purpose_cat</th>\n",
       "      <th>addr_state</th>\n",
       "      <th>debt_to_income</th>\n",
       "      <th>delinq_2yrs</th>\n",
       "      <th>inq_last_6mths</th>\n",
       "      <th>open_acc</th>\n",
       "      <th>pub_rec</th>\n",
       "      <th>revol_bal</th>\n",
       "      <th>revol_util</th>\n",
       "      <th>mths_since_last_major_derog</th>\n",
       "      <th>policy_code</th>\n",
       "    </tr>\n",
       "  </thead>\n",
       "  <tbody>\n",
       "    <tr>\n",
       "      <th>0</th>\n",
       "      <td>0</td>\n",
       "      <td>10.0</td>\n",
       "      <td>MORTGAGE</td>\n",
       "      <td>50000.0</td>\n",
       "      <td>not verified</td>\n",
       "      <td>medical</td>\n",
       "      <td>TX</td>\n",
       "      <td>10.87</td>\n",
       "      <td>0.0</td>\n",
       "      <td>0.0</td>\n",
       "      <td>15.0</td>\n",
       "      <td>0.0</td>\n",
       "      <td>12087</td>\n",
       "      <td>12.1</td>\n",
       "      <td>1</td>\n",
       "      <td>PC4</td>\n",
       "    </tr>\n",
       "    <tr>\n",
       "      <th>1</th>\n",
       "      <td>0</td>\n",
       "      <td>1.0</td>\n",
       "      <td>RENT</td>\n",
       "      <td>39216.0</td>\n",
       "      <td>not verified</td>\n",
       "      <td>debt consolidation</td>\n",
       "      <td>KS</td>\n",
       "      <td>9.15</td>\n",
       "      <td>0.0</td>\n",
       "      <td>2.0</td>\n",
       "      <td>4.0</td>\n",
       "      <td>0.0</td>\n",
       "      <td>10114</td>\n",
       "      <td>64.0</td>\n",
       "      <td>2</td>\n",
       "      <td>PC1</td>\n",
       "    </tr>\n",
       "    <tr>\n",
       "      <th>2</th>\n",
       "      <td>0</td>\n",
       "      <td>4.0</td>\n",
       "      <td>RENT</td>\n",
       "      <td>65000.0</td>\n",
       "      <td>not verified</td>\n",
       "      <td>credit card</td>\n",
       "      <td>CA</td>\n",
       "      <td>11.24</td>\n",
       "      <td>0.0</td>\n",
       "      <td>0.0</td>\n",
       "      <td>4.0</td>\n",
       "      <td>0.0</td>\n",
       "      <td>81</td>\n",
       "      <td>0.6</td>\n",
       "      <td>3</td>\n",
       "      <td>PC4</td>\n",
       "    </tr>\n",
       "    <tr>\n",
       "      <th>3</th>\n",
       "      <td>0</td>\n",
       "      <td>10.0</td>\n",
       "      <td>MORTGAGE</td>\n",
       "      <td>57500.0</td>\n",
       "      <td>not verified</td>\n",
       "      <td>debt consolidation</td>\n",
       "      <td>NY</td>\n",
       "      <td>6.18</td>\n",
       "      <td>1.0</td>\n",
       "      <td>0.0</td>\n",
       "      <td>6.0</td>\n",
       "      <td>0.0</td>\n",
       "      <td>10030</td>\n",
       "      <td>37.1</td>\n",
       "      <td>2</td>\n",
       "      <td>PC2</td>\n",
       "    </tr>\n",
       "    <tr>\n",
       "      <th>4</th>\n",
       "      <td>0</td>\n",
       "      <td>10.0</td>\n",
       "      <td>MORTGAGE</td>\n",
       "      <td>50004.0</td>\n",
       "      <td>VERIFIED - income</td>\n",
       "      <td>debt consolidation</td>\n",
       "      <td>OH</td>\n",
       "      <td>19.03</td>\n",
       "      <td>0.0</td>\n",
       "      <td>4.0</td>\n",
       "      <td>8.0</td>\n",
       "      <td>0.0</td>\n",
       "      <td>10740</td>\n",
       "      <td>40.4</td>\n",
       "      <td>3</td>\n",
       "      <td>PC3</td>\n",
       "    </tr>\n",
       "  </tbody>\n",
       "</table>\n",
       "</div>"
      ],
      "text/plain": [
       "   is_bad  emp_length home_ownership  annual_inc verification_status  \\\n",
       "0       0        10.0       MORTGAGE     50000.0        not verified   \n",
       "1       0         1.0           RENT     39216.0        not verified   \n",
       "2       0         4.0           RENT     65000.0        not verified   \n",
       "3       0        10.0       MORTGAGE     57500.0        not verified   \n",
       "4       0        10.0       MORTGAGE     50004.0   VERIFIED - income   \n",
       "\n",
       "          purpose_cat addr_state  debt_to_income  delinq_2yrs  inq_last_6mths  \\\n",
       "0             medical         TX           10.87          0.0             0.0   \n",
       "1  debt consolidation         KS            9.15          0.0             2.0   \n",
       "2         credit card         CA           11.24          0.0             0.0   \n",
       "3  debt consolidation         NY            6.18          1.0             0.0   \n",
       "4  debt consolidation         OH           19.03          0.0             4.0   \n",
       "\n",
       "   open_acc  pub_rec  revol_bal  revol_util  mths_since_last_major_derog  \\\n",
       "0      15.0      0.0      12087        12.1                            1   \n",
       "1       4.0      0.0      10114        64.0                            2   \n",
       "2       4.0      0.0         81         0.6                            3   \n",
       "3       6.0      0.0      10030        37.1                            2   \n",
       "4       8.0      0.0      10740        40.4                            3   \n",
       "\n",
       "  policy_code  \n",
       "0         PC4  \n",
       "1         PC1  \n",
       "2         PC4  \n",
       "3         PC2  \n",
       "4         PC3  "
      ]
     },
     "execution_count": 376,
     "metadata": {},
     "output_type": "execute_result"
    }
   ],
   "source": [
    "loan_df.head()"
   ]
  },
  {
   "cell_type": "code",
   "execution_count": 377,
   "metadata": {},
   "outputs": [
    {
     "data": {
      "text/plain": [
       "RENT        4745\n",
       "MORTGAGE    4445\n",
       "OWN          775\n",
       "OTHER         34\n",
       "NONE           1\n",
       "Name: home_ownership, dtype: int64"
      ]
     },
     "execution_count": 377,
     "metadata": {},
     "output_type": "execute_result"
    }
   ],
   "source": [
    "loan_df.home_ownership.value_counts()"
   ]
  },
  {
   "cell_type": "code",
   "execution_count": 378,
   "metadata": {},
   "outputs": [
    {
     "data": {
      "text/plain": [
       "CA    1748\n",
       "NY     958\n",
       "FL     714\n",
       "TX     700\n",
       "NJ     482\n",
       "VA     392\n",
       "IL     386\n",
       "PA     378\n",
       "GA     357\n",
       "MA     331\n",
       "OH     292\n",
       "MD     282\n",
       "WA     217\n",
       "AZ     210\n",
       "CT     195\n",
       "NC     194\n",
       "MI     176\n",
       "CO     175\n",
       "MO     167\n",
       "MN     136\n",
       "SC     126\n",
       "WI     124\n",
       "AL     119\n",
       "NV     114\n",
       "OR     109\n",
       "KY     103\n",
       "OK      98\n",
       "LA      97\n",
       "UT      68\n",
       "KS      57\n",
       "DC      54\n",
       "RI      53\n",
       "NH      50\n",
       "AR      48\n",
       "WV      45\n",
       "NM      43\n",
       "DE      35\n",
       "HI      32\n",
       "AK      26\n",
       "MT      25\n",
       "WY      23\n",
       "SD      19\n",
       "VT      18\n",
       "MS       9\n",
       "TN       5\n",
       "IN       3\n",
       "NE       3\n",
       "IA       2\n",
       "ID       1\n",
       "ME       1\n",
       "Name: addr_state, dtype: int64"
      ]
     },
     "execution_count": 378,
     "metadata": {},
     "output_type": "execute_result"
    }
   ],
   "source": [
    "loan_df.addr_state.value_counts()"
   ]
  },
  {
   "cell_type": "code",
   "execution_count": 379,
   "metadata": {},
   "outputs": [
    {
     "data": {
      "text/plain": [
       "PC3    2098\n",
       "PC5    2025\n",
       "PC1    1978\n",
       "PC2    1962\n",
       "PC4    1937\n",
       "Name: policy_code, dtype: int64"
      ]
     },
     "execution_count": 379,
     "metadata": {},
     "output_type": "execute_result"
    }
   ],
   "source": [
    "loan_df.policy_code.value_counts()"
   ]
  },
  {
   "cell_type": "code",
   "execution_count": 380,
   "metadata": {},
   "outputs": [],
   "source": [
    "# Droping policy_code, not relevent for investigation\n",
    "loan_df.drop(['policy_code'],1, inplace=True)"
   ]
  },
  {
   "cell_type": "code",
   "execution_count": 381,
   "metadata": {},
   "outputs": [],
   "source": [
    "# Droping addr_state, not relevent for investigation\n",
    "loan_df.drop(['addr_state'],1, inplace=True)"
   ]
  },
  {
   "cell_type": "code",
   "execution_count": 382,
   "metadata": {},
   "outputs": [],
   "source": [
    "#dealing with categorical attributes\n",
    "\n",
    "# Create dummy variables from the feature purpose_cat\n",
    "loan_df = pd.get_dummies(loan_df, columns=[\"purpose_cat\"], drop_first=True)\n",
    "\n",
    "# Create dummy variables from the feature home_ownership \n",
    "loan_df = pd.get_dummies(loan_df, columns=[\"home_ownership\"], drop_first=True)\n",
    "\n",
    "# Create dummy variables from the feature verification_status\n",
    "loan_df = pd.get_dummies(loan_df, columns=[\"verification_status\"], drop_first=True)"
   ]
  },
  {
   "cell_type": "code",
   "execution_count": 383,
   "metadata": {},
   "outputs": [
    {
     "data": {
      "text/html": [
       "<div>\n",
       "<style scoped>\n",
       "    .dataframe tbody tr th:only-of-type {\n",
       "        vertical-align: middle;\n",
       "    }\n",
       "\n",
       "    .dataframe tbody tr th {\n",
       "        vertical-align: top;\n",
       "    }\n",
       "\n",
       "    .dataframe thead th {\n",
       "        text-align: right;\n",
       "    }\n",
       "</style>\n",
       "<table border=\"1\" class=\"dataframe\">\n",
       "  <thead>\n",
       "    <tr style=\"text-align: right;\">\n",
       "      <th></th>\n",
       "      <th>is_bad</th>\n",
       "      <th>emp_length</th>\n",
       "      <th>annual_inc</th>\n",
       "      <th>debt_to_income</th>\n",
       "      <th>delinq_2yrs</th>\n",
       "      <th>inq_last_6mths</th>\n",
       "      <th>open_acc</th>\n",
       "      <th>pub_rec</th>\n",
       "      <th>revol_bal</th>\n",
       "      <th>revol_util</th>\n",
       "      <th>...</th>\n",
       "      <th>purpose_cat_vacation</th>\n",
       "      <th>purpose_cat_vacation small business</th>\n",
       "      <th>purpose_cat_wedding</th>\n",
       "      <th>purpose_cat_wedding small business</th>\n",
       "      <th>home_ownership_NONE</th>\n",
       "      <th>home_ownership_OTHER</th>\n",
       "      <th>home_ownership_OWN</th>\n",
       "      <th>home_ownership_RENT</th>\n",
       "      <th>verification_status_VERIFIED - income source</th>\n",
       "      <th>verification_status_not verified</th>\n",
       "    </tr>\n",
       "  </thead>\n",
       "  <tbody>\n",
       "    <tr>\n",
       "      <th>0</th>\n",
       "      <td>0</td>\n",
       "      <td>10.0</td>\n",
       "      <td>50000.0</td>\n",
       "      <td>10.87</td>\n",
       "      <td>0.0</td>\n",
       "      <td>0.0</td>\n",
       "      <td>15.0</td>\n",
       "      <td>0.0</td>\n",
       "      <td>12087</td>\n",
       "      <td>12.1</td>\n",
       "      <td>...</td>\n",
       "      <td>0</td>\n",
       "      <td>0</td>\n",
       "      <td>0</td>\n",
       "      <td>0</td>\n",
       "      <td>0</td>\n",
       "      <td>0</td>\n",
       "      <td>0</td>\n",
       "      <td>0</td>\n",
       "      <td>0</td>\n",
       "      <td>1</td>\n",
       "    </tr>\n",
       "    <tr>\n",
       "      <th>1</th>\n",
       "      <td>0</td>\n",
       "      <td>1.0</td>\n",
       "      <td>39216.0</td>\n",
       "      <td>9.15</td>\n",
       "      <td>0.0</td>\n",
       "      <td>2.0</td>\n",
       "      <td>4.0</td>\n",
       "      <td>0.0</td>\n",
       "      <td>10114</td>\n",
       "      <td>64.0</td>\n",
       "      <td>...</td>\n",
       "      <td>0</td>\n",
       "      <td>0</td>\n",
       "      <td>0</td>\n",
       "      <td>0</td>\n",
       "      <td>0</td>\n",
       "      <td>0</td>\n",
       "      <td>0</td>\n",
       "      <td>1</td>\n",
       "      <td>0</td>\n",
       "      <td>1</td>\n",
       "    </tr>\n",
       "    <tr>\n",
       "      <th>2</th>\n",
       "      <td>0</td>\n",
       "      <td>4.0</td>\n",
       "      <td>65000.0</td>\n",
       "      <td>11.24</td>\n",
       "      <td>0.0</td>\n",
       "      <td>0.0</td>\n",
       "      <td>4.0</td>\n",
       "      <td>0.0</td>\n",
       "      <td>81</td>\n",
       "      <td>0.6</td>\n",
       "      <td>...</td>\n",
       "      <td>0</td>\n",
       "      <td>0</td>\n",
       "      <td>0</td>\n",
       "      <td>0</td>\n",
       "      <td>0</td>\n",
       "      <td>0</td>\n",
       "      <td>0</td>\n",
       "      <td>1</td>\n",
       "      <td>0</td>\n",
       "      <td>1</td>\n",
       "    </tr>\n",
       "    <tr>\n",
       "      <th>3</th>\n",
       "      <td>0</td>\n",
       "      <td>10.0</td>\n",
       "      <td>57500.0</td>\n",
       "      <td>6.18</td>\n",
       "      <td>1.0</td>\n",
       "      <td>0.0</td>\n",
       "      <td>6.0</td>\n",
       "      <td>0.0</td>\n",
       "      <td>10030</td>\n",
       "      <td>37.1</td>\n",
       "      <td>...</td>\n",
       "      <td>0</td>\n",
       "      <td>0</td>\n",
       "      <td>0</td>\n",
       "      <td>0</td>\n",
       "      <td>0</td>\n",
       "      <td>0</td>\n",
       "      <td>0</td>\n",
       "      <td>0</td>\n",
       "      <td>0</td>\n",
       "      <td>1</td>\n",
       "    </tr>\n",
       "    <tr>\n",
       "      <th>4</th>\n",
       "      <td>0</td>\n",
       "      <td>10.0</td>\n",
       "      <td>50004.0</td>\n",
       "      <td>19.03</td>\n",
       "      <td>0.0</td>\n",
       "      <td>4.0</td>\n",
       "      <td>8.0</td>\n",
       "      <td>0.0</td>\n",
       "      <td>10740</td>\n",
       "      <td>40.4</td>\n",
       "      <td>...</td>\n",
       "      <td>0</td>\n",
       "      <td>0</td>\n",
       "      <td>0</td>\n",
       "      <td>0</td>\n",
       "      <td>0</td>\n",
       "      <td>0</td>\n",
       "      <td>0</td>\n",
       "      <td>0</td>\n",
       "      <td>0</td>\n",
       "      <td>0</td>\n",
       "    </tr>\n",
       "  </tbody>\n",
       "</table>\n",
       "<p>5 rows × 43 columns</p>\n",
       "</div>"
      ],
      "text/plain": [
       "   is_bad  emp_length  annual_inc  debt_to_income  delinq_2yrs  \\\n",
       "0       0        10.0     50000.0           10.87          0.0   \n",
       "1       0         1.0     39216.0            9.15          0.0   \n",
       "2       0         4.0     65000.0           11.24          0.0   \n",
       "3       0        10.0     57500.0            6.18          1.0   \n",
       "4       0        10.0     50004.0           19.03          0.0   \n",
       "\n",
       "   inq_last_6mths  open_acc  pub_rec  revol_bal  revol_util  ...  \\\n",
       "0             0.0      15.0      0.0      12087        12.1  ...   \n",
       "1             2.0       4.0      0.0      10114        64.0  ...   \n",
       "2             0.0       4.0      0.0         81         0.6  ...   \n",
       "3             0.0       6.0      0.0      10030        37.1  ...   \n",
       "4             4.0       8.0      0.0      10740        40.4  ...   \n",
       "\n",
       "   purpose_cat_vacation  purpose_cat_vacation small business  \\\n",
       "0                     0                                    0   \n",
       "1                     0                                    0   \n",
       "2                     0                                    0   \n",
       "3                     0                                    0   \n",
       "4                     0                                    0   \n",
       "\n",
       "   purpose_cat_wedding  purpose_cat_wedding small business  \\\n",
       "0                    0                                   0   \n",
       "1                    0                                   0   \n",
       "2                    0                                   0   \n",
       "3                    0                                   0   \n",
       "4                    0                                   0   \n",
       "\n",
       "   home_ownership_NONE  home_ownership_OTHER  home_ownership_OWN  \\\n",
       "0                    0                     0                   0   \n",
       "1                    0                     0                   0   \n",
       "2                    0                     0                   0   \n",
       "3                    0                     0                   0   \n",
       "4                    0                     0                   0   \n",
       "\n",
       "   home_ownership_RENT  verification_status_VERIFIED - income source  \\\n",
       "0                    0                                             0   \n",
       "1                    1                                             0   \n",
       "2                    1                                             0   \n",
       "3                    0                                             0   \n",
       "4                    0                                             0   \n",
       "\n",
       "   verification_status_not verified  \n",
       "0                                 1  \n",
       "1                                 1  \n",
       "2                                 1  \n",
       "3                                 1  \n",
       "4                                 0  \n",
       "\n",
       "[5 rows x 43 columns]"
      ]
     },
     "execution_count": 383,
     "metadata": {},
     "output_type": "execute_result"
    }
   ],
   "source": [
    "loan_df.head()"
   ]
  },
  {
   "cell_type": "code",
   "execution_count": 436,
   "metadata": {},
   "outputs": [],
   "source": [
    "my_list = list(loan_df)\n",
    "Independent = my_list[1:]"
   ]
  },
  {
   "cell_type": "code",
   "execution_count": 444,
   "metadata": {},
   "outputs": [],
   "source": [
    "X = loan_df[Independent]"
   ]
  },
  {
   "cell_type": "code",
   "execution_count": 440,
   "metadata": {},
   "outputs": [],
   "source": [
    "depended = ['is_bad']"
   ]
  },
  {
   "cell_type": "code",
   "execution_count": 441,
   "metadata": {},
   "outputs": [
    {
     "data": {
      "text/plain": [
       "(10000, 1)"
      ]
     },
     "execution_count": 441,
     "metadata": {},
     "output_type": "execute_result"
    }
   ],
   "source": [
    "Y = loan_df[depended]\n",
    "Y.shape"
   ]
  },
  {
   "cell_type": "code",
   "execution_count": 446,
   "metadata": {},
   "outputs": [
    {
     "data": {
      "text/plain": [
       "(10000, 42)"
      ]
     },
     "execution_count": 446,
     "metadata": {},
     "output_type": "execute_result"
    }
   ],
   "source": [
    "X.shape"
   ]
  },
  {
   "cell_type": "code",
   "execution_count": 414,
   "metadata": {},
   "outputs": [
    {
     "data": {
      "text/html": [
       "<div>\n",
       "<style scoped>\n",
       "    .dataframe tbody tr th:only-of-type {\n",
       "        vertical-align: middle;\n",
       "    }\n",
       "\n",
       "    .dataframe tbody tr th {\n",
       "        vertical-align: top;\n",
       "    }\n",
       "\n",
       "    .dataframe thead th {\n",
       "        text-align: right;\n",
       "    }\n",
       "</style>\n",
       "<table border=\"1\" class=\"dataframe\">\n",
       "  <thead>\n",
       "    <tr style=\"text-align: right;\">\n",
       "      <th></th>\n",
       "      <th>is_bad</th>\n",
       "      <th>emp_length</th>\n",
       "      <th>annual_inc</th>\n",
       "      <th>debt_to_income</th>\n",
       "      <th>delinq_2yrs</th>\n",
       "      <th>inq_last_6mths</th>\n",
       "      <th>open_acc</th>\n",
       "      <th>pub_rec</th>\n",
       "      <th>revol_bal</th>\n",
       "      <th>revol_util</th>\n",
       "      <th>...</th>\n",
       "      <th>purpose_cat_vacation</th>\n",
       "      <th>purpose_cat_vacation small business</th>\n",
       "      <th>purpose_cat_wedding</th>\n",
       "      <th>purpose_cat_wedding small business</th>\n",
       "      <th>home_ownership_NONE</th>\n",
       "      <th>home_ownership_OTHER</th>\n",
       "      <th>home_ownership_OWN</th>\n",
       "      <th>home_ownership_RENT</th>\n",
       "      <th>verification_status_VERIFIED - income source</th>\n",
       "      <th>verification_status_not verified</th>\n",
       "    </tr>\n",
       "  </thead>\n",
       "  <tbody>\n",
       "    <tr>\n",
       "      <th>0</th>\n",
       "      <td>0</td>\n",
       "      <td>10.0</td>\n",
       "      <td>50000.0</td>\n",
       "      <td>10.87</td>\n",
       "      <td>0.0</td>\n",
       "      <td>0.0</td>\n",
       "      <td>15.0</td>\n",
       "      <td>0.0</td>\n",
       "      <td>12087</td>\n",
       "      <td>12.1</td>\n",
       "      <td>...</td>\n",
       "      <td>0</td>\n",
       "      <td>0</td>\n",
       "      <td>0</td>\n",
       "      <td>0</td>\n",
       "      <td>0</td>\n",
       "      <td>0</td>\n",
       "      <td>0</td>\n",
       "      <td>0</td>\n",
       "      <td>0</td>\n",
       "      <td>1</td>\n",
       "    </tr>\n",
       "    <tr>\n",
       "      <th>1</th>\n",
       "      <td>0</td>\n",
       "      <td>1.0</td>\n",
       "      <td>39216.0</td>\n",
       "      <td>9.15</td>\n",
       "      <td>0.0</td>\n",
       "      <td>2.0</td>\n",
       "      <td>4.0</td>\n",
       "      <td>0.0</td>\n",
       "      <td>10114</td>\n",
       "      <td>64.0</td>\n",
       "      <td>...</td>\n",
       "      <td>0</td>\n",
       "      <td>0</td>\n",
       "      <td>0</td>\n",
       "      <td>0</td>\n",
       "      <td>0</td>\n",
       "      <td>0</td>\n",
       "      <td>0</td>\n",
       "      <td>1</td>\n",
       "      <td>0</td>\n",
       "      <td>1</td>\n",
       "    </tr>\n",
       "    <tr>\n",
       "      <th>2</th>\n",
       "      <td>0</td>\n",
       "      <td>4.0</td>\n",
       "      <td>65000.0</td>\n",
       "      <td>11.24</td>\n",
       "      <td>0.0</td>\n",
       "      <td>0.0</td>\n",
       "      <td>4.0</td>\n",
       "      <td>0.0</td>\n",
       "      <td>81</td>\n",
       "      <td>0.6</td>\n",
       "      <td>...</td>\n",
       "      <td>0</td>\n",
       "      <td>0</td>\n",
       "      <td>0</td>\n",
       "      <td>0</td>\n",
       "      <td>0</td>\n",
       "      <td>0</td>\n",
       "      <td>0</td>\n",
       "      <td>1</td>\n",
       "      <td>0</td>\n",
       "      <td>1</td>\n",
       "    </tr>\n",
       "    <tr>\n",
       "      <th>3</th>\n",
       "      <td>0</td>\n",
       "      <td>10.0</td>\n",
       "      <td>57500.0</td>\n",
       "      <td>6.18</td>\n",
       "      <td>1.0</td>\n",
       "      <td>0.0</td>\n",
       "      <td>6.0</td>\n",
       "      <td>0.0</td>\n",
       "      <td>10030</td>\n",
       "      <td>37.1</td>\n",
       "      <td>...</td>\n",
       "      <td>0</td>\n",
       "      <td>0</td>\n",
       "      <td>0</td>\n",
       "      <td>0</td>\n",
       "      <td>0</td>\n",
       "      <td>0</td>\n",
       "      <td>0</td>\n",
       "      <td>0</td>\n",
       "      <td>0</td>\n",
       "      <td>1</td>\n",
       "    </tr>\n",
       "    <tr>\n",
       "      <th>4</th>\n",
       "      <td>0</td>\n",
       "      <td>10.0</td>\n",
       "      <td>50004.0</td>\n",
       "      <td>19.03</td>\n",
       "      <td>0.0</td>\n",
       "      <td>4.0</td>\n",
       "      <td>8.0</td>\n",
       "      <td>0.0</td>\n",
       "      <td>10740</td>\n",
       "      <td>40.4</td>\n",
       "      <td>...</td>\n",
       "      <td>0</td>\n",
       "      <td>0</td>\n",
       "      <td>0</td>\n",
       "      <td>0</td>\n",
       "      <td>0</td>\n",
       "      <td>0</td>\n",
       "      <td>0</td>\n",
       "      <td>0</td>\n",
       "      <td>0</td>\n",
       "      <td>0</td>\n",
       "    </tr>\n",
       "  </tbody>\n",
       "</table>\n",
       "<p>5 rows × 43 columns</p>\n",
       "</div>"
      ],
      "text/plain": [
       "   is_bad  emp_length  annual_inc  debt_to_income  delinq_2yrs  \\\n",
       "0       0        10.0     50000.0           10.87          0.0   \n",
       "1       0         1.0     39216.0            9.15          0.0   \n",
       "2       0         4.0     65000.0           11.24          0.0   \n",
       "3       0        10.0     57500.0            6.18          1.0   \n",
       "4       0        10.0     50004.0           19.03          0.0   \n",
       "\n",
       "   inq_last_6mths  open_acc  pub_rec  revol_bal  revol_util  ...  \\\n",
       "0             0.0      15.0      0.0      12087        12.1  ...   \n",
       "1             2.0       4.0      0.0      10114        64.0  ...   \n",
       "2             0.0       4.0      0.0         81         0.6  ...   \n",
       "3             0.0       6.0      0.0      10030        37.1  ...   \n",
       "4             4.0       8.0      0.0      10740        40.4  ...   \n",
       "\n",
       "   purpose_cat_vacation  purpose_cat_vacation small business  \\\n",
       "0                     0                                    0   \n",
       "1                     0                                    0   \n",
       "2                     0                                    0   \n",
       "3                     0                                    0   \n",
       "4                     0                                    0   \n",
       "\n",
       "   purpose_cat_wedding  purpose_cat_wedding small business  \\\n",
       "0                    0                                   0   \n",
       "1                    0                                   0   \n",
       "2                    0                                   0   \n",
       "3                    0                                   0   \n",
       "4                    0                                   0   \n",
       "\n",
       "   home_ownership_NONE  home_ownership_OTHER  home_ownership_OWN  \\\n",
       "0                    0                     0                   0   \n",
       "1                    0                     0                   0   \n",
       "2                    0                     0                   0   \n",
       "3                    0                     0                   0   \n",
       "4                    0                     0                   0   \n",
       "\n",
       "   home_ownership_RENT  verification_status_VERIFIED - income source  \\\n",
       "0                    0                                             0   \n",
       "1                    1                                             0   \n",
       "2                    1                                             0   \n",
       "3                    0                                             0   \n",
       "4                    0                                             0   \n",
       "\n",
       "   verification_status_not verified  \n",
       "0                                 1  \n",
       "1                                 1  \n",
       "2                                 1  \n",
       "3                                 1  \n",
       "4                                 0  \n",
       "\n",
       "[5 rows x 43 columns]"
      ]
     },
     "execution_count": 414,
     "metadata": {},
     "output_type": "execute_result"
    }
   ],
   "source": [
    "loan_df.head()"
   ]
  },
  {
   "cell_type": "markdown",
   "metadata": {},
   "source": [
    "# Modeling and Feature Selection"
   ]
  },
  {
   "cell_type": "markdown",
   "metadata": {},
   "source": [
    "## Randon Forest"
   ]
  },
  {
   "cell_type": "code",
   "execution_count": 447,
   "metadata": {},
   "outputs": [],
   "source": [
    "# Splitting the dataset into the Training set and Test set\n",
    "X_train, X_test, y_train, y_test = train_test_split(X, Y, test_size = 0.3, random_state = 0)\n",
    "\n",
    "# Feature Scaling\n",
    "sc = StandardScaler()\n",
    "\n",
    "X_train[num]= sc.fit_transform(X_train[num])\n",
    "X_test[num] = sc.transform(X_test[num])"
   ]
  },
  {
   "cell_type": "code",
   "execution_count": 448,
   "metadata": {},
   "outputs": [
    {
     "data": {
      "text/plain": [
       "(7000, 42)"
      ]
     },
     "execution_count": 448,
     "metadata": {},
     "output_type": "execute_result"
    }
   ],
   "source": [
    "X_train.shape"
   ]
  },
  {
   "cell_type": "code",
   "execution_count": 449,
   "metadata": {},
   "outputs": [
    {
     "data": {
      "text/plain": [
       "(7000, 1)"
      ]
     },
     "execution_count": 449,
     "metadata": {},
     "output_type": "execute_result"
    }
   ],
   "source": [
    "y_train.shape"
   ]
  },
  {
   "cell_type": "code",
   "execution_count": 453,
   "metadata": {},
   "outputs": [],
   "source": [
    "rf_classifier = RandomForestClassifier(criterion = 'entropy',\n",
    "                                                   max_depth= 4,\n",
    "                                                   max_features ='log2',\n",
    "                                                   n_estimators = 100,\n",
    "                                                   min_samples_split = 6,\n",
    "                                                   class_weight = {0: 1, 1: 5}\n",
    "                                                  )"
   ]
  },
  {
   "cell_type": "code",
   "execution_count": 454,
   "metadata": {},
   "outputs": [
    {
     "data": {
      "text/plain": [
       "RandomForestClassifier(class_weight={0: 1, 1: 5}, criterion='entropy',\n",
       "                       max_depth=4, max_features='log2', min_samples_split=6)"
      ]
     },
     "execution_count": 454,
     "metadata": {},
     "output_type": "execute_result"
    }
   ],
   "source": [
    "rf_classifier.fit(X_train, y_train)"
   ]
  },
  {
   "cell_type": "code",
   "execution_count": 480,
   "metadata": {},
   "outputs": [],
   "source": [
    "y_pred_train_rf= rf_classifier.predict(X_train)"
   ]
  },
  {
   "cell_type": "code",
   "execution_count": 481,
   "metadata": {},
   "outputs": [
    {
     "name": "stdout",
     "output_type": "stream",
     "text": [
      "Precision 0.8484848484848485\n",
      "Accuracy 0.885\n",
      "F1 Score 0.2580645161290323\n",
      "Recall 0.15217391304347827\n"
     ]
    }
   ],
   "source": [
    "print('Precision', precision_score(y_train, y_pred_train_rf))\n",
    "print('Accuracy', accuracy_score(y_train, y_pred_train_rf))\n",
    "print('F1 Score', f1_score(y_train, y_pred_train_rf))\n",
    "print('Recall', recall_score(y_train, y_pred_train_rf))"
   ]
  },
  {
   "cell_type": "code",
   "execution_count": 482,
   "metadata": {},
   "outputs": [],
   "source": [
    "y_pred_test_rf = rf_classifier.predict(X_test)"
   ]
  },
  {
   "cell_type": "code",
   "execution_count": 483,
   "metadata": {},
   "outputs": [
    {
     "name": "stdout",
     "output_type": "stream",
     "text": [
      "Precision 0.8135593220338984\n",
      "Accuracy 0.8873333333333333\n",
      "F1 Score 0.22119815668202766\n",
      "Recall 0.128\n"
     ]
    }
   ],
   "source": [
    "print('Precision', precision_score(y_test, y_pred_test_rf))\n",
    "print('Accuracy', accuracy_score(y_test, y_pred_test_rf))\n",
    "print('F1 Score', f1_score(y_test, y_pred_test_rf))\n",
    "print('Recall', recall_score(y_test, y_pred_test_rf))"
   ]
  },
  {
   "cell_type": "code",
   "execution_count": 490,
   "metadata": {},
   "outputs": [
    {
     "name": "stdout",
     "output_type": "stream",
     "text": [
      "[[2614   11]\n",
      " [ 327   48]]\n"
     ]
    }
   ],
   "source": [
    "cm_rf = confusion_matrix(y_test,y_pred_test)\n",
    "print(cm_rf)"
   ]
  },
  {
   "cell_type": "markdown",
   "metadata": {},
   "source": [
    "## SVM"
   ]
  },
  {
   "cell_type": "code",
   "execution_count": 478,
   "metadata": {},
   "outputs": [
    {
     "data": {
      "text/plain": [
       "SVC(probability=True)"
      ]
     },
     "execution_count": 478,
     "metadata": {},
     "output_type": "execute_result"
    }
   ],
   "source": [
    "svm_classifier = SVC(probability = True)\n",
    "svm_classifier.fit(X_train,y_train)"
   ]
  },
  {
   "cell_type": "code",
   "execution_count": 479,
   "metadata": {},
   "outputs": [],
   "source": [
    "y_pred_train_svm= svm_classifier.predict(X_train)"
   ]
  },
  {
   "cell_type": "code",
   "execution_count": 485,
   "metadata": {},
   "outputs": [
    {
     "name": "stdout",
     "output_type": "stream",
     "text": [
      "Precision 1.0\n",
      "Accuracy 0.8878571428571429\n",
      "F1 Score 0.2559241706161137\n",
      "Recall 0.14673913043478262\n"
     ]
    }
   ],
   "source": [
    "print('Precision', precision_score(y_train, y_pred_train_svm))\n",
    "print('Accuracy', accuracy_score(y_train, y_pred_train_svm))\n",
    "print('F1 Score', f1_score(y_train, y_pred_train_svm))\n",
    "print('Recall', recall_score(y_train, y_pred_train_svm))"
   ]
  },
  {
   "cell_type": "code",
   "execution_count": 486,
   "metadata": {},
   "outputs": [],
   "source": [
    "y_pred_test_svm = svm_classifier.predict(X_test)"
   ]
  },
  {
   "cell_type": "code",
   "execution_count": 487,
   "metadata": {},
   "outputs": [
    {
     "name": "stdout",
     "output_type": "stream",
     "text": [
      "Precision 1.0\n",
      "Accuracy 0.8926666666666667\n",
      "F1 Score 0.2476635514018692\n",
      "Recall 0.14133333333333334\n"
     ]
    }
   ],
   "source": [
    "print('Precision', precision_score(y_test, y_pred_test_svm))\n",
    "print('Accuracy', accuracy_score(y_test, y_pred_test_svm))\n",
    "print('F1 Score', f1_score(y_test, y_pred_test_svm))\n",
    "print('Recall', recall_score(y_test, y_pred_test_svm))"
   ]
  },
  {
   "cell_type": "code",
   "execution_count": 491,
   "metadata": {},
   "outputs": [
    {
     "name": "stdout",
     "output_type": "stream",
     "text": [
      "[[2625    0]\n",
      " [ 322   53]]\n"
     ]
    }
   ],
   "source": [
    "cm_svm = confusion_matrix(y_test,y_pred_test_svm)\n",
    "print(cm_svm)"
   ]
  },
  {
   "cell_type": "code",
   "execution_count": 493,
   "metadata": {},
   "outputs": [],
   "source": [
    "import pandas as pd\n",
    "feature_importances = pd.DataFrame(rf_classifier.feature_importances_,\n",
    "                                   index = X_train.columns,\n",
    "                                    columns=['importance']).sort_values('importance',     \n",
    "                                                                        ascending=False)"
   ]
  },
  {
   "cell_type": "code",
   "execution_count": 497,
   "metadata": {},
   "outputs": [
    {
     "data": {
      "text/plain": [
       "<AxesSubplot:xlabel='importance'>"
      ]
     },
     "execution_count": 497,
     "metadata": {},
     "output_type": "execute_result"
    },
    {
     "data": {
      "image/png": "[encoded data removed]",
      "text/plain": [
       "<Figure size 432x288 with 1 Axes>"
      ]
     },
     "metadata": {
      "needs_background": "light"
     },
     "output_type": "display_data"
    }
   ],
   "source": [
    "sns.barplot(x=feature_importances[:10].importance, y=feature_importances[:10].index)"
   ]
  },
  {
   "cell_type": "code",
   "execution_count": 499,
   "metadata": {},
   "outputs": [],
   "source": [
    "y_scores_sm= svm_classifier.predict_proba(X_test.values)\n",
    "y_scores_rf = rf_classifier.predict_proba(X_test.values)"
   ]
  },
  {
   "cell_type": "code",
   "execution_count": 502,
   "metadata": {},
   "outputs": [],
   "source": [
    "fpr_rf, tpr_rf, thresholds_rf= roc_curve(y_test, y_scores_rf[:,1])\n",
    "fpr_svm, tpr_svm, thresholds_svm= roc_curve(y_test, y_scores_sm[:,1])"
   ]
  },
  {
   "cell_type": "code",
   "execution_count": 503,
   "metadata": {},
   "outputs": [
    {
     "data": {
      "text/plain": [
       "<matplotlib.legend.Legend at 0x25fd0a23370>"
      ]
     },
     "execution_count": 503,
     "metadata": {},
     "output_type": "execute_result"
    },
    {
     "data": {
      "image/png": "[encoded data removed]",
      "text/plain": [
       "<Figure size 720x720 with 1 Axes>"
      ]
     },
     "metadata": {
      "needs_background": "light"
     },
     "output_type": "display_data"
    }
   ],
   "source": [
    "plt.figure(figsize=(10, 10))\n",
    "\n",
    "plt.plot(fpr_rf, tpr_rf, label= 'Random Forest')\n",
    "plt.plot(fpr_svm, tpr_svm, label= 'SVM')\n",
    "\n",
    "plt.plot([0,1], [0,1], linestyle='--')\n",
    "plt.xlabel(\"False Positive Rate\")\n",
    "plt.ylabel(\"True Positive Rate\")\n",
    "plt.legend()"
   ]
  },
  {
   "cell_type": "code",
   "execution_count": 505,
   "metadata": {},
   "outputs": [],
   "source": [
    "y_scores_sm_train = svm_classifier.predict_proba(X_train.values)\n",
    "y_scores_rf_train = rf_classifier.predict_proba(X_train.values)"
   ]
  },
  {
   "cell_type": "code",
   "execution_count": 507,
   "metadata": {},
   "outputs": [],
   "source": [
    "fpr_rf_train, tpr_rf_train, thresholds_rf_train= roc_curve(y_train, y_scores_rf_train[:,1])\n",
    "fpr_svm_train, tpr_svm_train, thresholds_svm_train= roc_curve(y_train, y_scores_sm_train[:,1])"
   ]
  },
  {
   "cell_type": "code",
   "execution_count": 508,
   "metadata": {},
   "outputs": [
    {
     "data": {
      "text/plain": [
       "<matplotlib.legend.Legend at 0x25fd0acf220>"
      ]
     },
     "execution_count": 508,
     "metadata": {},
     "output_type": "execute_result"
    },
    {
     "data": {
      "image/png": "[encoded data removed]",
      "text/plain": [
       "<Figure size 720x720 with 1 Axes>"
      ]
     },
     "metadata": {
      "needs_background": "light"
     },
     "output_type": "display_data"
    }
   ],
   "source": [
    "plt.figure(figsize=(10, 10))\n",
    "\n",
    "plt.plot(fpr_rf_train, tpr_rf_train, label= 'Random Forest')\n",
    "plt.plot(fpr_svm_train, tpr_svm_train, label= 'SVM')\n",
    "\n",
    "plt.plot([0,1], [0,1], linestyle='--')\n",
    "plt.xlabel(\"False Positive Rate\")\n",
    "plt.ylabel(\"True Positive Rate\")\n",
    "plt.legend()"
   ]
  },
  {
   "cell_type": "markdown",
   "metadata": {},
   "source": [
    "# Saving a Model"
   ]
  },
  {
   "cell_type": "code",
   "execution_count": 519,
   "metadata": {},
   "outputs": [],
   "source": [
    "import pickle\n",
    "dict_objects = {'Standard Scaling':sc, \n",
    "                'Random Forest Classifier': rf_classifier,\n",
    "                'SVM Classifier': svm_classifier\n",
    "                }"
   ]
  },
  {
   "cell_type": "code",
   "execution_count": 520,
   "metadata": {},
   "outputs": [],
   "source": [
    "filename = 'ModelPickles.pkl'\n",
    "outfile = open(filename,'wb')"
   ]
  },
  {
   "cell_type": "code",
   "execution_count": 521,
   "metadata": {},
   "outputs": [],
   "source": [
    "pickle.dump(dict_objects,outfile)\n",
    "outfile.close()"
   ]
  },
  {
   "cell_type": "code",
   "execution_count": null,
   "metadata": {},
   "outputs": [],
   "source": [
    "import googleapiclient.discovery\n",
    "\n",
    "def predict_json(project, model, instances, version=None):\n",
    "    \"\"\"Send json data to a deployed model for prediction.\n",
    "    Args:\n",
    "        project (str): project where the AI Platform Prediction Model is deployed.\n",
    "        model (str): model name.\n",
    "        instances ([[float]]): List of input instances, where each input\n",
    "           instance is a list of floats.\n",
    "        version: str, version of the model to target.\n",
    "    Returns:\n",
    "        Mapping[str: any]: dictionary of prediction results defined by the\n",
    "            model.\n",
    "    \"\"\"\n",
    "    # Create the AI Platform Prediction service object.\n",
    "    # To authenticate set the environment variable\n",
    "    # GOOGLE_APPLICATION_CREDENTIALS=<path_to_service_account_file>\n",
    "    service = googleapiclient.discovery.build('ml', 'v1')\n",
    "    name = 'projects/{}/models/{}'.format(project, model)\n",
    "\n",
    "    if version is not None:\n",
    "        name += '/versions/{}'.format(version)\n",
    "\n",
    "    response = service.projects().predict(\n",
    "        name=name,\n",
    "        body={'instances': instances}\n",
    "    ).execute()\n",
    "   \n",
    "    if 'error' in response:\n",
    "        raise RuntimeError(response['error'])\n",
    "\n",
    "    return response['predictions']"
   ]
  },
  {
   "cell_type": "code",
   "execution_count": null,
   "metadata": {},
   "outputs": [],
   "source": [
    "import json\n",
    "os.environ['GOOGLE_APPLICATION_CREDENTIALS'] = 'xxxxxxxxxxxxx.json'\n",
    "\n",
    "test = X_test.iloc[20:21].values\n",
    "test.shape\n",
    "test.reshape(1, -1)\n",
    "instances = test.tolist()\n",
    "predict_json('mwpmltr', 'lending_club_model', instances)"
   ]
  }
 ],
 "metadata": {
  "kernelspec": {
   "display_name": "Python 3 (ipykernel)",
   "language": "python",
   "name": "python3"
  },
  "language_info": {
   "codemirror_mode": {
    "name": "ipython",
    "version": 3
   },
   "file_extension": ".py",
   "mimetype": "text/x-python",
   "name": "python",
   "nbconvert_exporter": "python",
   "pygments_lexer": "ipython3",
   "version": "3.9.13"
  }
 },
 "nbformat": 4,
 "nbformat_minor": 4
}
